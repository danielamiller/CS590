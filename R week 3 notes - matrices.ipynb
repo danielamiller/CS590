{
 "cells": [
  {
   "cell_type": "code",
   "execution_count": null,
   "metadata": {},
   "outputs": [],
   "source": [
    "#R matrices"
   ]
  },
  {
   "cell_type": "code",
   "execution_count": 1,
   "metadata": {},
   "outputs": [
    {
     "data": {
      "text/html": [
       "<ol class=list-inline>\n",
       "\t<li>1</li>\n",
       "\t<li>2</li>\n",
       "\t<li>3</li>\n",
       "\t<li>4</li>\n",
       "\t<li>5</li>\n",
       "\t<li>6</li>\n",
       "\t<li>7</li>\n",
       "\t<li>8</li>\n",
       "\t<li>9</li>\n",
       "\t<li>10</li>\n",
       "</ol>\n"
      ],
      "text/latex": [
       "\\begin{enumerate*}\n",
       "\\item 1\n",
       "\\item 2\n",
       "\\item 3\n",
       "\\item 4\n",
       "\\item 5\n",
       "\\item 6\n",
       "\\item 7\n",
       "\\item 8\n",
       "\\item 9\n",
       "\\item 10\n",
       "\\end{enumerate*}\n"
      ],
      "text/markdown": [
       "1. 1\n",
       "2. 2\n",
       "3. 3\n",
       "4. 4\n",
       "5. 5\n",
       "6. 6\n",
       "7. 7\n",
       "8. 8\n",
       "9. 9\n",
       "10. 10\n",
       "\n",
       "\n"
      ],
      "text/plain": [
       " [1]  1  2  3  4  5  6  7  8  9 10"
      ]
     },
     "metadata": {},
     "output_type": "display_data"
    }
   ],
   "source": [
    "#range of sequential numeric values\n",
    "1:10"
   ]
  },
  {
   "cell_type": "code",
   "execution_count": 2,
   "metadata": {},
   "outputs": [
    {
     "data": {
      "text/html": [
       "<ol class=list-inline>\n",
       "\t<li>1</li>\n",
       "\t<li>2</li>\n",
       "\t<li>3</li>\n",
       "\t<li>4</li>\n",
       "\t<li>5</li>\n",
       "\t<li>6</li>\n",
       "\t<li>7</li>\n",
       "\t<li>8</li>\n",
       "\t<li>9</li>\n",
       "\t<li>10</li>\n",
       "</ol>\n"
      ],
      "text/latex": [
       "\\begin{enumerate*}\n",
       "\\item 1\n",
       "\\item 2\n",
       "\\item 3\n",
       "\\item 4\n",
       "\\item 5\n",
       "\\item 6\n",
       "\\item 7\n",
       "\\item 8\n",
       "\\item 9\n",
       "\\item 10\n",
       "\\end{enumerate*}\n"
      ],
      "text/markdown": [
       "1. 1\n",
       "2. 2\n",
       "3. 3\n",
       "4. 4\n",
       "5. 5\n",
       "6. 6\n",
       "7. 7\n",
       "8. 8\n",
       "9. 9\n",
       "10. 10\n",
       "\n",
       "\n"
      ],
      "text/plain": [
       " [1]  1  2  3  4  5  6  7  8  9 10"
      ]
     },
     "metadata": {},
     "output_type": "display_data"
    }
   ],
   "source": [
    "#Assign sequential numeric range to a vector\n",
    "v <- 1:10\n",
    "v"
   ]
  },
  {
   "cell_type": "code",
   "execution_count": 3,
   "metadata": {},
   "outputs": [
    {
     "data": {
      "text/html": [
       "<table>\n",
       "<tbody>\n",
       "\t<tr><td> 1</td></tr>\n",
       "\t<tr><td> 2</td></tr>\n",
       "\t<tr><td> 3</td></tr>\n",
       "\t<tr><td> 4</td></tr>\n",
       "\t<tr><td> 5</td></tr>\n",
       "\t<tr><td> 6</td></tr>\n",
       "\t<tr><td> 7</td></tr>\n",
       "\t<tr><td> 8</td></tr>\n",
       "\t<tr><td> 9</td></tr>\n",
       "\t<tr><td>10</td></tr>\n",
       "</tbody>\n",
       "</table>\n"
      ],
      "text/latex": [
       "\\begin{tabular}{l}\n",
       "\t  1\\\\\n",
       "\t  2\\\\\n",
       "\t  3\\\\\n",
       "\t  4\\\\\n",
       "\t  5\\\\\n",
       "\t  6\\\\\n",
       "\t  7\\\\\n",
       "\t  8\\\\\n",
       "\t  9\\\\\n",
       "\t 10\\\\\n",
       "\\end{tabular}\n"
      ],
      "text/markdown": [
       "\n",
       "|  1 |\n",
       "|  2 |\n",
       "|  3 |\n",
       "|  4 |\n",
       "|  5 |\n",
       "|  6 |\n",
       "|  7 |\n",
       "|  8 |\n",
       "|  9 |\n",
       "| 10 |\n",
       "\n"
      ],
      "text/plain": [
       "      [,1]\n",
       " [1,]  1  \n",
       " [2,]  2  \n",
       " [3,]  3  \n",
       " [4,]  4  \n",
       " [5,]  5  \n",
       " [6,]  6  \n",
       " [7,]  7  \n",
       " [8,]  8  \n",
       " [9,]  9  \n",
       "[10,] 10  "
      ]
     },
     "metadata": {},
     "output_type": "display_data"
    }
   ],
   "source": [
    "#matrix() function\n",
    "matrix(v)"
   ]
  },
  {
   "cell_type": "code",
   "execution_count": 4,
   "metadata": {},
   "outputs": [
    {
     "data": {
      "text/html": [
       "<table>\n",
       "<tbody>\n",
       "\t<tr><td>1 </td><td>3 </td><td>5 </td><td>7 </td><td> 9</td></tr>\n",
       "\t<tr><td>2 </td><td>4 </td><td>6 </td><td>8 </td><td>10</td></tr>\n",
       "</tbody>\n",
       "</table>\n"
      ],
      "text/latex": [
       "\\begin{tabular}{lllll}\n",
       "\t 1  & 3  & 5  & 7  &  9\\\\\n",
       "\t 2  & 4  & 6  & 8  & 10\\\\\n",
       "\\end{tabular}\n"
      ],
      "text/markdown": [
       "\n",
       "| 1  | 3  | 5  | 7  |  9 |\n",
       "| 2  | 4  | 6  | 8  | 10 |\n",
       "\n"
      ],
      "text/plain": [
       "     [,1] [,2] [,3] [,4] [,5]\n",
       "[1,] 1    3    5    7     9  \n",
       "[2,] 2    4    6    8    10  "
      ]
     },
     "metadata": {},
     "output_type": "display_data"
    }
   ],
   "source": [
    "matrix(v, nrow=2)"
   ]
  },
  {
   "cell_type": "code",
   "execution_count": 5,
   "metadata": {},
   "outputs": [
    {
     "data": {
      "text/html": [
       "<table>\n",
       "<tbody>\n",
       "\t<tr><td>1 </td><td>3 </td><td>5 </td><td>7 </td><td> 9</td></tr>\n",
       "\t<tr><td>2 </td><td>4 </td><td>6 </td><td>8 </td><td>10</td></tr>\n",
       "</tbody>\n",
       "</table>\n"
      ],
      "text/latex": [
       "\\begin{tabular}{lllll}\n",
       "\t 1  & 3  & 5  & 7  &  9\\\\\n",
       "\t 2  & 4  & 6  & 8  & 10\\\\\n",
       "\\end{tabular}\n"
      ],
      "text/markdown": [
       "\n",
       "| 1  | 3  | 5  | 7  |  9 |\n",
       "| 2  | 4  | 6  | 8  | 10 |\n",
       "\n"
      ],
      "text/plain": [
       "     [,1] [,2] [,3] [,4] [,5]\n",
       "[1,] 1    3    5    7     9  \n",
       "[2,] 2    4    6    8    10  "
      ]
     },
     "metadata": {},
     "output_type": "display_data"
    }
   ],
   "source": [
    "matrix(v, byrow=FALSE, nrow=2)"
   ]
  },
  {
   "cell_type": "code",
   "execution_count": 6,
   "metadata": {},
   "outputs": [
    {
     "data": {
      "text/html": [
       "<table>\n",
       "<tbody>\n",
       "\t<tr><td>1 </td><td>2 </td><td>3 </td><td>4 </td><td> 5</td></tr>\n",
       "\t<tr><td>6 </td><td>7 </td><td>8 </td><td>9 </td><td>10</td></tr>\n",
       "</tbody>\n",
       "</table>\n"
      ],
      "text/latex": [
       "\\begin{tabular}{lllll}\n",
       "\t 1  & 2  & 3  & 4  &  5\\\\\n",
       "\t 6  & 7  & 8  & 9  & 10\\\\\n",
       "\\end{tabular}\n"
      ],
      "text/markdown": [
       "\n",
       "| 1  | 2  | 3  | 4  |  5 |\n",
       "| 6  | 7  | 8  | 9  | 10 |\n",
       "\n"
      ],
      "text/plain": [
       "     [,1] [,2] [,3] [,4] [,5]\n",
       "[1,] 1    2    3    4     5  \n",
       "[2,] 6    7    8    9    10  "
      ]
     },
     "metadata": {},
     "output_type": "display_data"
    }
   ],
   "source": [
    "matrix(v, byrow=TRUE, nrow=2)"
   ]
  },
  {
   "cell_type": "code",
   "execution_count": 7,
   "metadata": {},
   "outputs": [
    {
     "data": {
      "text/html": [
       "<table>\n",
       "<tbody>\n",
       "\t<tr><td> 1</td><td> 2</td><td> 3</td></tr>\n",
       "\t<tr><td> 4</td><td> 5</td><td> 6</td></tr>\n",
       "\t<tr><td> 7</td><td> 8</td><td> 9</td></tr>\n",
       "\t<tr><td>10</td><td>11</td><td>12</td></tr>\n",
       "</tbody>\n",
       "</table>\n"
      ],
      "text/latex": [
       "\\begin{tabular}{lll}\n",
       "\t  1 &  2 &  3\\\\\n",
       "\t  4 &  5 &  6\\\\\n",
       "\t  7 &  8 &  9\\\\\n",
       "\t 10 & 11 & 12\\\\\n",
       "\\end{tabular}\n"
      ],
      "text/markdown": [
       "\n",
       "|  1 |  2 |  3 |\n",
       "|  4 |  5 |  6 |\n",
       "|  7 |  8 |  9 |\n",
       "| 10 | 11 | 12 |\n",
       "\n"
      ],
      "text/plain": [
       "     [,1] [,2] [,3]\n",
       "[1,]  1    2    3  \n",
       "[2,]  4    5    6  \n",
       "[3,]  7    8    9  \n",
       "[4,] 10   11   12  "
      ]
     },
     "metadata": {},
     "output_type": "display_data"
    }
   ],
   "source": [
    "matrix(1:12, byrow=TRUE, nrow=4)"
   ]
  },
  {
   "cell_type": "code",
   "execution_count": 8,
   "metadata": {},
   "outputs": [],
   "source": [
    "Lewiston <- c(12,14,18,13,17)\n",
    "Rocky.Mount <- c(11,19,21,15,18)\n",
    "Whiteville <- c(14,17,23,11,9)"
   ]
  },
  {
   "cell_type": "code",
   "execution_count": 9,
   "metadata": {},
   "outputs": [],
   "source": [
    "weights <- c(Lewiston, Rocky.Mount, Whiteville)"
   ]
  },
  {
   "cell_type": "code",
   "execution_count": 10,
   "metadata": {},
   "outputs": [
    {
     "data": {
      "text/html": [
       "<ol class=list-inline>\n",
       "\t<li>12</li>\n",
       "\t<li>14</li>\n",
       "\t<li>18</li>\n",
       "\t<li>13</li>\n",
       "\t<li>17</li>\n",
       "\t<li>11</li>\n",
       "\t<li>19</li>\n",
       "\t<li>21</li>\n",
       "\t<li>15</li>\n",
       "\t<li>18</li>\n",
       "\t<li>14</li>\n",
       "\t<li>17</li>\n",
       "\t<li>23</li>\n",
       "\t<li>11</li>\n",
       "\t<li>9</li>\n",
       "</ol>\n"
      ],
      "text/latex": [
       "\\begin{enumerate*}\n",
       "\\item 12\n",
       "\\item 14\n",
       "\\item 18\n",
       "\\item 13\n",
       "\\item 17\n",
       "\\item 11\n",
       "\\item 19\n",
       "\\item 21\n",
       "\\item 15\n",
       "\\item 18\n",
       "\\item 14\n",
       "\\item 17\n",
       "\\item 23\n",
       "\\item 11\n",
       "\\item 9\n",
       "\\end{enumerate*}\n"
      ],
      "text/markdown": [
       "1. 12\n",
       "2. 14\n",
       "3. 18\n",
       "4. 13\n",
       "5. 17\n",
       "6. 11\n",
       "7. 19\n",
       "8. 21\n",
       "9. 15\n",
       "10. 18\n",
       "11. 14\n",
       "12. 17\n",
       "13. 23\n",
       "14. 11\n",
       "15. 9\n",
       "\n",
       "\n"
      ],
      "text/plain": [
       " [1] 12 14 18 13 17 11 19 21 15 18 14 17 23 11  9"
      ]
     },
     "metadata": {},
     "output_type": "display_data"
    }
   ],
   "source": [
    "weights"
   ]
  },
  {
   "cell_type": "code",
   "execution_count": 13,
   "metadata": {},
   "outputs": [
    {
     "data": {
      "text/html": [
       "<table>\n",
       "<tbody>\n",
       "\t<tr><td>12</td><td>14</td><td>18</td><td>13</td><td>17</td></tr>\n",
       "\t<tr><td>11</td><td>19</td><td>21</td><td>15</td><td>18</td></tr>\n",
       "\t<tr><td>14</td><td>17</td><td>23</td><td>11</td><td> 9</td></tr>\n",
       "</tbody>\n",
       "</table>\n"
      ],
      "text/latex": [
       "\\begin{tabular}{lllll}\n",
       "\t 12 & 14 & 18 & 13 & 17\\\\\n",
       "\t 11 & 19 & 21 & 15 & 18\\\\\n",
       "\t 14 & 17 & 23 & 11 &  9\\\\\n",
       "\\end{tabular}\n"
      ],
      "text/markdown": [
       "\n",
       "| 12 | 14 | 18 | 13 | 17 |\n",
       "| 11 | 19 | 21 | 15 | 18 |\n",
       "| 14 | 17 | 23 | 11 |  9 |\n",
       "\n"
      ],
      "text/plain": [
       "     [,1] [,2] [,3] [,4] [,5]\n",
       "[1,] 12   14   18   13   17  \n",
       "[2,] 11   19   21   15   18  \n",
       "[3,] 14   17   23   11    9  "
      ]
     },
     "metadata": {},
     "output_type": "display_data"
    }
   ],
   "source": [
    "weights.matrix <- matrix(weights, byrow=TRUE, nrow=3)\n",
    "weights.matrix"
   ]
  },
  {
   "cell_type": "code",
   "execution_count": 14,
   "metadata": {},
   "outputs": [],
   "source": [
    "# Name rows=rownames(), columns=colnames()\n",
    "days <- c('Mon', 'Tue', 'Wed', 'Thu', 'Fri')\n",
    "loc.names <- c('Lewiston', 'Rocky Mount', 'Whiteville')"
   ]
  },
  {
   "cell_type": "code",
   "execution_count": 15,
   "metadata": {},
   "outputs": [
    {
     "data": {
      "text/html": [
       "<ol class=list-inline>\n",
       "\t<li>'Mon'</li>\n",
       "\t<li>'Tue'</li>\n",
       "\t<li>'Wed'</li>\n",
       "\t<li>'Thu'</li>\n",
       "\t<li>'Fri'</li>\n",
       "</ol>\n"
      ],
      "text/latex": [
       "\\begin{enumerate*}\n",
       "\\item 'Mon'\n",
       "\\item 'Tue'\n",
       "\\item 'Wed'\n",
       "\\item 'Thu'\n",
       "\\item 'Fri'\n",
       "\\end{enumerate*}\n"
      ],
      "text/markdown": [
       "1. 'Mon'\n",
       "2. 'Tue'\n",
       "3. 'Wed'\n",
       "4. 'Thu'\n",
       "5. 'Fri'\n",
       "\n",
       "\n"
      ],
      "text/plain": [
       "[1] \"Mon\" \"Tue\" \"Wed\" \"Thu\" \"Fri\""
      ]
     },
     "metadata": {},
     "output_type": "display_data"
    }
   ],
   "source": [
    "days"
   ]
  },
  {
   "cell_type": "code",
   "execution_count": 16,
   "metadata": {},
   "outputs": [
    {
     "data": {
      "text/html": [
       "<ol class=list-inline>\n",
       "\t<li>'Lewiston'</li>\n",
       "\t<li>'Rocky Mount'</li>\n",
       "\t<li>'Whiteville'</li>\n",
       "</ol>\n"
      ],
      "text/latex": [
       "\\begin{enumerate*}\n",
       "\\item 'Lewiston'\n",
       "\\item 'Rocky Mount'\n",
       "\\item 'Whiteville'\n",
       "\\end{enumerate*}\n"
      ],
      "text/markdown": [
       "1. 'Lewiston'\n",
       "2. 'Rocky Mount'\n",
       "3. 'Whiteville'\n",
       "\n",
       "\n"
      ],
      "text/plain": [
       "[1] \"Lewiston\"    \"Rocky Mount\" \"Whiteville\" "
      ]
     },
     "metadata": {},
     "output_type": "display_data"
    }
   ],
   "source": [
    "loc.names"
   ]
  },
  {
   "cell_type": "code",
   "execution_count": 17,
   "metadata": {},
   "outputs": [
    {
     "data": {
      "text/html": [
       "<table>\n",
       "<tbody>\n",
       "\t<tr><td>12</td><td>14</td><td>18</td><td>13</td><td>17</td></tr>\n",
       "\t<tr><td>11</td><td>19</td><td>21</td><td>15</td><td>18</td></tr>\n",
       "\t<tr><td>14</td><td>17</td><td>23</td><td>11</td><td> 9</td></tr>\n",
       "</tbody>\n",
       "</table>\n"
      ],
      "text/latex": [
       "\\begin{tabular}{lllll}\n",
       "\t 12 & 14 & 18 & 13 & 17\\\\\n",
       "\t 11 & 19 & 21 & 15 & 18\\\\\n",
       "\t 14 & 17 & 23 & 11 &  9\\\\\n",
       "\\end{tabular}\n"
      ],
      "text/markdown": [
       "\n",
       "| 12 | 14 | 18 | 13 | 17 |\n",
       "| 11 | 19 | 21 | 15 | 18 |\n",
       "| 14 | 17 | 23 | 11 |  9 |\n",
       "\n"
      ],
      "text/plain": [
       "     [,1] [,2] [,3] [,4] [,5]\n",
       "[1,] 12   14   18   13   17  \n",
       "[2,] 11   19   21   15   18  \n",
       "[3,] 14   17   23   11    9  "
      ]
     },
     "metadata": {},
     "output_type": "display_data"
    }
   ],
   "source": [
    "weights.matrix"
   ]
  },
  {
   "cell_type": "code",
   "execution_count": 18,
   "metadata": {},
   "outputs": [],
   "source": [
    "colnames(weights.matrix) <- days\n",
    "rownames(weights.matrix) <- loc.names"
   ]
  },
  {
   "cell_type": "code",
   "execution_count": 19,
   "metadata": {},
   "outputs": [
    {
     "data": {
      "text/html": [
       "<table>\n",
       "<thead><tr><th></th><th scope=col>Mon</th><th scope=col>Tue</th><th scope=col>Wed</th><th scope=col>Thu</th><th scope=col>Fri</th></tr></thead>\n",
       "<tbody>\n",
       "\t<tr><th scope=row>Lewiston</th><td>12</td><td>14</td><td>18</td><td>13</td><td>17</td></tr>\n",
       "\t<tr><th scope=row>Rocky Mount</th><td>11</td><td>19</td><td>21</td><td>15</td><td>18</td></tr>\n",
       "\t<tr><th scope=row>Whiteville</th><td>14</td><td>17</td><td>23</td><td>11</td><td> 9</td></tr>\n",
       "</tbody>\n",
       "</table>\n"
      ],
      "text/latex": [
       "\\begin{tabular}{r|lllll}\n",
       "  & Mon & Tue & Wed & Thu & Fri\\\\\n",
       "\\hline\n",
       "\tLewiston & 12 & 14 & 18 & 13 & 17\\\\\n",
       "\tRocky Mount & 11 & 19 & 21 & 15 & 18\\\\\n",
       "\tWhiteville & 14 & 17 & 23 & 11 &  9\\\\\n",
       "\\end{tabular}\n"
      ],
      "text/markdown": [
       "\n",
       "| <!--/--> | Mon | Tue | Wed | Thu | Fri |\n",
       "|---|---|---|---|---|---|\n",
       "| Lewiston | 12 | 14 | 18 | 13 | 17 |\n",
       "| Rocky Mount | 11 | 19 | 21 | 15 | 18 |\n",
       "| Whiteville | 14 | 17 | 23 | 11 |  9 |\n",
       "\n"
      ],
      "text/plain": [
       "            Mon Tue Wed Thu Fri\n",
       "Lewiston    12  14  18  13  17 \n",
       "Rocky Mount 11  19  21  15  18 \n",
       "Whiteville  14  17  23  11   9 "
      ]
     },
     "metadata": {},
     "output_type": "display_data"
    }
   ],
   "source": [
    "weights.matrix"
   ]
  },
  {
   "cell_type": "code",
   "execution_count": 20,
   "metadata": {},
   "outputs": [
    {
     "data": {
      "text/html": [
       "<table>\n",
       "<tbody>\n",
       "\t<tr><td> 1</td><td> 2</td><td> 3</td><td> 4</td><td> 5</td><td> 6</td><td> 7</td><td> 8</td><td> 9</td><td>10</td></tr>\n",
       "\t<tr><td>11</td><td>12</td><td>13</td><td>14</td><td>15</td><td>16</td><td>17</td><td>18</td><td>19</td><td>20</td></tr>\n",
       "\t<tr><td>21</td><td>22</td><td>23</td><td>24</td><td>25</td><td>26</td><td>27</td><td>28</td><td>29</td><td>30</td></tr>\n",
       "\t<tr><td>31</td><td>32</td><td>33</td><td>34</td><td>35</td><td>36</td><td>37</td><td>38</td><td>39</td><td>40</td></tr>\n",
       "\t<tr><td>41</td><td>42</td><td>43</td><td>44</td><td>45</td><td>46</td><td>47</td><td>48</td><td>49</td><td>50</td></tr>\n",
       "</tbody>\n",
       "</table>\n"
      ],
      "text/latex": [
       "\\begin{tabular}{llllllllll}\n",
       "\t  1 &  2 &  3 &  4 &  5 &  6 &  7 &  8 &  9 & 10\\\\\n",
       "\t 11 & 12 & 13 & 14 & 15 & 16 & 17 & 18 & 19 & 20\\\\\n",
       "\t 21 & 22 & 23 & 24 & 25 & 26 & 27 & 28 & 29 & 30\\\\\n",
       "\t 31 & 32 & 33 & 34 & 35 & 36 & 37 & 38 & 39 & 40\\\\\n",
       "\t 41 & 42 & 43 & 44 & 45 & 46 & 47 & 48 & 49 & 50\\\\\n",
       "\\end{tabular}\n"
      ],
      "text/markdown": [
       "\n",
       "|  1 |  2 |  3 |  4 |  5 |  6 |  7 |  8 |  9 | 10 |\n",
       "| 11 | 12 | 13 | 14 | 15 | 16 | 17 | 18 | 19 | 20 |\n",
       "| 21 | 22 | 23 | 24 | 25 | 26 | 27 | 28 | 29 | 30 |\n",
       "| 31 | 32 | 33 | 34 | 35 | 36 | 37 | 38 | 39 | 40 |\n",
       "| 41 | 42 | 43 | 44 | 45 | 46 | 47 | 48 | 49 | 50 |\n",
       "\n"
      ],
      "text/plain": [
       "     [,1] [,2] [,3] [,4] [,5] [,6] [,7] [,8] [,9] [,10]\n",
       "[1,]  1    2    3    4    5    6    7    8    9   10   \n",
       "[2,] 11   12   13   14   15   16   17   18   19   20   \n",
       "[3,] 21   22   23   24   25   26   27   28   29   30   \n",
       "[4,] 31   32   33   34   35   36   37   38   39   40   \n",
       "[5,] 41   42   43   44   45   46   47   48   49   50   "
      ]
     },
     "metadata": {},
     "output_type": "display_data"
    }
   ],
   "source": [
    "#set up a matrix with 5 rows and 10 columns\n",
    "mat <- matrix(1:50, byrow=TRUE, nrow=5)\n",
    "mat"
   ]
  },
  {
   "cell_type": "code",
   "execution_count": 21,
   "metadata": {},
   "outputs": [
    {
     "data": {
      "text/html": [
       "<table>\n",
       "<tbody>\n",
       "\t<tr><td> 2 </td><td> 4 </td><td> 6 </td><td> 8 </td><td>10 </td><td>12 </td><td>14 </td><td>16 </td><td>18 </td><td> 20</td></tr>\n",
       "\t<tr><td>22 </td><td>24 </td><td>26 </td><td>28 </td><td>30 </td><td>32 </td><td>34 </td><td>36 </td><td>38 </td><td> 40</td></tr>\n",
       "\t<tr><td>42 </td><td>44 </td><td>46 </td><td>48 </td><td>50 </td><td>52 </td><td>54 </td><td>56 </td><td>58 </td><td> 60</td></tr>\n",
       "\t<tr><td>62 </td><td>64 </td><td>66 </td><td>68 </td><td>70 </td><td>72 </td><td>74 </td><td>76 </td><td>78 </td><td> 80</td></tr>\n",
       "\t<tr><td>82 </td><td>84 </td><td>86 </td><td>88 </td><td>90 </td><td>92 </td><td>94 </td><td>96 </td><td>98 </td><td>100</td></tr>\n",
       "</tbody>\n",
       "</table>\n"
      ],
      "text/latex": [
       "\\begin{tabular}{llllllllll}\n",
       "\t  2  &  4  &  6  &  8  & 10  & 12  & 14  & 16  & 18  &  20\\\\\n",
       "\t 22  & 24  & 26  & 28  & 30  & 32  & 34  & 36  & 38  &  40\\\\\n",
       "\t 42  & 44  & 46  & 48  & 50  & 52  & 54  & 56  & 58  &  60\\\\\n",
       "\t 62  & 64  & 66  & 68  & 70  & 72  & 74  & 76  & 78  &  80\\\\\n",
       "\t 82  & 84  & 86  & 88  & 90  & 92  & 94  & 96  & 98  & 100\\\\\n",
       "\\end{tabular}\n"
      ],
      "text/markdown": [
       "\n",
       "|  2  |  4  |  6  |  8  | 10  | 12  | 14  | 16  | 18  |  20 |\n",
       "| 22  | 24  | 26  | 28  | 30  | 32  | 34  | 36  | 38  |  40 |\n",
       "| 42  | 44  | 46  | 48  | 50  | 52  | 54  | 56  | 58  |  60 |\n",
       "| 62  | 64  | 66  | 68  | 70  | 72  | 74  | 76  | 78  |  80 |\n",
       "| 82  | 84  | 86  | 88  | 90  | 92  | 94  | 96  | 98  | 100 |\n",
       "\n"
      ],
      "text/plain": [
       "     [,1] [,2] [,3] [,4] [,5] [,6] [,7] [,8] [,9] [,10]\n",
       "[1,]  2    4    6    8   10   12   14   16   18    20  \n",
       "[2,] 22   24   26   28   30   32   34   36   38    40  \n",
       "[3,] 42   44   46   48   50   52   54   56   58    60  \n",
       "[4,] 62   64   66   68   70   72   74   76   78    80  \n",
       "[5,] 82   84   86   88   90   92   94   96   98   100  "
      ]
     },
     "metadata": {},
     "output_type": "display_data"
    }
   ],
   "source": [
    "2*mat"
   ]
  },
  {
   "cell_type": "code",
   "execution_count": 22,
   "metadata": {},
   "outputs": [
    {
     "data": {
      "text/html": [
       "<table>\n",
       "<tbody>\n",
       "\t<tr><td>1.00000000</td><td>0.50000000</td><td>0.33333333</td><td>0.25000000</td><td>0.20000000</td><td>0.16666667</td><td>0.14285714</td><td>0.12500000</td><td>0.11111111</td><td>0.10000000</td></tr>\n",
       "\t<tr><td>0.09090909</td><td>0.08333333</td><td>0.07692308</td><td>0.07142857</td><td>0.06666667</td><td>0.06250000</td><td>0.05882353</td><td>0.05555556</td><td>0.05263158</td><td>0.05000000</td></tr>\n",
       "\t<tr><td>0.04761905</td><td>0.04545455</td><td>0.04347826</td><td>0.04166667</td><td>0.04000000</td><td>0.03846154</td><td>0.03703704</td><td>0.03571429</td><td>0.03448276</td><td>0.03333333</td></tr>\n",
       "\t<tr><td>0.03225806</td><td>0.03125000</td><td>0.03030303</td><td>0.02941176</td><td>0.02857143</td><td>0.02777778</td><td>0.02702703</td><td>0.02631579</td><td>0.02564103</td><td>0.02500000</td></tr>\n",
       "\t<tr><td>0.02439024</td><td>0.02380952</td><td>0.02325581</td><td>0.02272727</td><td>0.02222222</td><td>0.02173913</td><td>0.02127660</td><td>0.02083333</td><td>0.02040816</td><td>0.02000000</td></tr>\n",
       "</tbody>\n",
       "</table>\n"
      ],
      "text/latex": [
       "\\begin{tabular}{llllllllll}\n",
       "\t 1.00000000 & 0.50000000 & 0.33333333 & 0.25000000 & 0.20000000 & 0.16666667 & 0.14285714 & 0.12500000 & 0.11111111 & 0.10000000\\\\\n",
       "\t 0.09090909 & 0.08333333 & 0.07692308 & 0.07142857 & 0.06666667 & 0.06250000 & 0.05882353 & 0.05555556 & 0.05263158 & 0.05000000\\\\\n",
       "\t 0.04761905 & 0.04545455 & 0.04347826 & 0.04166667 & 0.04000000 & 0.03846154 & 0.03703704 & 0.03571429 & 0.03448276 & 0.03333333\\\\\n",
       "\t 0.03225806 & 0.03125000 & 0.03030303 & 0.02941176 & 0.02857143 & 0.02777778 & 0.02702703 & 0.02631579 & 0.02564103 & 0.02500000\\\\\n",
       "\t 0.02439024 & 0.02380952 & 0.02325581 & 0.02272727 & 0.02222222 & 0.02173913 & 0.02127660 & 0.02083333 & 0.02040816 & 0.02000000\\\\\n",
       "\\end{tabular}\n"
      ],
      "text/markdown": [
       "\n",
       "| 1.00000000 | 0.50000000 | 0.33333333 | 0.25000000 | 0.20000000 | 0.16666667 | 0.14285714 | 0.12500000 | 0.11111111 | 0.10000000 |\n",
       "| 0.09090909 | 0.08333333 | 0.07692308 | 0.07142857 | 0.06666667 | 0.06250000 | 0.05882353 | 0.05555556 | 0.05263158 | 0.05000000 |\n",
       "| 0.04761905 | 0.04545455 | 0.04347826 | 0.04166667 | 0.04000000 | 0.03846154 | 0.03703704 | 0.03571429 | 0.03448276 | 0.03333333 |\n",
       "| 0.03225806 | 0.03125000 | 0.03030303 | 0.02941176 | 0.02857143 | 0.02777778 | 0.02702703 | 0.02631579 | 0.02564103 | 0.02500000 |\n",
       "| 0.02439024 | 0.02380952 | 0.02325581 | 0.02272727 | 0.02222222 | 0.02173913 | 0.02127660 | 0.02083333 | 0.02040816 | 0.02000000 |\n",
       "\n"
      ],
      "text/plain": [
       "     [,1]       [,2]       [,3]       [,4]       [,5]       [,6]      \n",
       "[1,] 1.00000000 0.50000000 0.33333333 0.25000000 0.20000000 0.16666667\n",
       "[2,] 0.09090909 0.08333333 0.07692308 0.07142857 0.06666667 0.06250000\n",
       "[3,] 0.04761905 0.04545455 0.04347826 0.04166667 0.04000000 0.03846154\n",
       "[4,] 0.03225806 0.03125000 0.03030303 0.02941176 0.02857143 0.02777778\n",
       "[5,] 0.02439024 0.02380952 0.02325581 0.02272727 0.02222222 0.02173913\n",
       "     [,7]       [,8]       [,9]       [,10]     \n",
       "[1,] 0.14285714 0.12500000 0.11111111 0.10000000\n",
       "[2,] 0.05882353 0.05555556 0.05263158 0.05000000\n",
       "[3,] 0.03703704 0.03571429 0.03448276 0.03333333\n",
       "[4,] 0.02702703 0.02631579 0.02564103 0.02500000\n",
       "[5,] 0.02127660 0.02083333 0.02040816 0.02000000"
      ]
     },
     "metadata": {},
     "output_type": "display_data"
    }
   ],
   "source": [
    "1/mat"
   ]
  },
  {
   "cell_type": "code",
   "execution_count": 23,
   "metadata": {},
   "outputs": [
    {
     "data": {
      "text/html": [
       "<table>\n",
       "<tbody>\n",
       "\t<tr><td>   1</td><td>   4</td><td>   9</td><td>  16</td><td>  25</td><td>  36</td><td>  49</td><td>  64</td><td>  81</td><td> 100</td></tr>\n",
       "\t<tr><td> 121</td><td> 144</td><td> 169</td><td> 196</td><td> 225</td><td> 256</td><td> 289</td><td> 324</td><td> 361</td><td> 400</td></tr>\n",
       "\t<tr><td> 441</td><td> 484</td><td> 529</td><td> 576</td><td> 625</td><td> 676</td><td> 729</td><td> 784</td><td> 841</td><td> 900</td></tr>\n",
       "\t<tr><td> 961</td><td>1024</td><td>1089</td><td>1156</td><td>1225</td><td>1296</td><td>1369</td><td>1444</td><td>1521</td><td>1600</td></tr>\n",
       "\t<tr><td>1681</td><td>1764</td><td>1849</td><td>1936</td><td>2025</td><td>2116</td><td>2209</td><td>2304</td><td>2401</td><td>2500</td></tr>\n",
       "</tbody>\n",
       "</table>\n"
      ],
      "text/latex": [
       "\\begin{tabular}{llllllllll}\n",
       "\t    1 &    4 &    9 &   16 &   25 &   36 &   49 &   64 &   81 &  100\\\\\n",
       "\t  121 &  144 &  169 &  196 &  225 &  256 &  289 &  324 &  361 &  400\\\\\n",
       "\t  441 &  484 &  529 &  576 &  625 &  676 &  729 &  784 &  841 &  900\\\\\n",
       "\t  961 & 1024 & 1089 & 1156 & 1225 & 1296 & 1369 & 1444 & 1521 & 1600\\\\\n",
       "\t 1681 & 1764 & 1849 & 1936 & 2025 & 2116 & 2209 & 2304 & 2401 & 2500\\\\\n",
       "\\end{tabular}\n"
      ],
      "text/markdown": [
       "\n",
       "|    1 |    4 |    9 |   16 |   25 |   36 |   49 |   64 |   81 |  100 |\n",
       "|  121 |  144 |  169 |  196 |  225 |  256 |  289 |  324 |  361 |  400 |\n",
       "|  441 |  484 |  529 |  576 |  625 |  676 |  729 |  784 |  841 |  900 |\n",
       "|  961 | 1024 | 1089 | 1156 | 1225 | 1296 | 1369 | 1444 | 1521 | 1600 |\n",
       "| 1681 | 1764 | 1849 | 1936 | 2025 | 2116 | 2209 | 2304 | 2401 | 2500 |\n",
       "\n"
      ],
      "text/plain": [
       "     [,1] [,2] [,3] [,4] [,5] [,6] [,7] [,8] [,9] [,10]\n",
       "[1,]    1    4    9   16   25   36   49   64   81  100 \n",
       "[2,]  121  144  169  196  225  256  289  324  361  400 \n",
       "[3,]  441  484  529  576  625  676  729  784  841  900 \n",
       "[4,]  961 1024 1089 1156 1225 1296 1369 1444 1521 1600 \n",
       "[5,] 1681 1764 1849 1936 2025 2116 2209 2304 2401 2500 "
      ]
     },
     "metadata": {},
     "output_type": "display_data"
    }
   ],
   "source": [
    "mat**2"
   ]
  },
  {
   "cell_type": "code",
   "execution_count": 26,
   "metadata": {},
   "outputs": [
    {
     "data": {
      "text/html": [
       "<table>\n",
       "<tbody>\n",
       "\t<tr><td>1</td><td>4</td><td>7</td></tr>\n",
       "\t<tr><td>2</td><td>5</td><td>8</td></tr>\n",
       "\t<tr><td>3</td><td>6</td><td>9</td></tr>\n",
       "</tbody>\n",
       "</table>\n"
      ],
      "text/latex": [
       "\\begin{tabular}{lll}\n",
       "\t 1 & 4 & 7\\\\\n",
       "\t 2 & 5 & 8\\\\\n",
       "\t 3 & 6 & 9\\\\\n",
       "\\end{tabular}\n"
      ],
      "text/markdown": [
       "\n",
       "| 1 | 4 | 7 |\n",
       "| 2 | 5 | 8 |\n",
       "| 3 | 6 | 9 |\n",
       "\n"
      ],
      "text/plain": [
       "     [,1] [,2] [,3]\n",
       "[1,] 1    4    7   \n",
       "[2,] 2    5    8   \n",
       "[3,] 3    6    9   "
      ]
     },
     "metadata": {},
     "output_type": "display_data"
    }
   ],
   "source": [
    "mat2 <- matrix(1:9, nrow=3)\n",
    "mat2"
   ]
  },
  {
   "cell_type": "code",
   "execution_count": 27,
   "metadata": {},
   "outputs": [
    {
     "data": {
      "text/html": [
       "<table>\n",
       "<tbody>\n",
       "\t<tr><td>1 </td><td>16</td><td>49</td></tr>\n",
       "\t<tr><td>4 </td><td>25</td><td>64</td></tr>\n",
       "\t<tr><td>9 </td><td>36</td><td>81</td></tr>\n",
       "</tbody>\n",
       "</table>\n"
      ],
      "text/latex": [
       "\\begin{tabular}{lll}\n",
       "\t 1  & 16 & 49\\\\\n",
       "\t 4  & 25 & 64\\\\\n",
       "\t 9  & 36 & 81\\\\\n",
       "\\end{tabular}\n"
      ],
      "text/markdown": [
       "\n",
       "| 1  | 16 | 49 |\n",
       "| 4  | 25 | 64 |\n",
       "| 9  | 36 | 81 |\n",
       "\n"
      ],
      "text/plain": [
       "     [,1] [,2] [,3]\n",
       "[1,] 1    16   49  \n",
       "[2,] 4    25   64  \n",
       "[3,] 9    36   81  "
      ]
     },
     "metadata": {},
     "output_type": "display_data"
    }
   ],
   "source": [
    "#element by element multiplication\n",
    "mat2*mat2"
   ]
  },
  {
   "cell_type": "code",
   "execution_count": 28,
   "metadata": {},
   "outputs": [
    {
     "data": {
      "text/html": [
       "<table>\n",
       "<tbody>\n",
       "\t<tr><td>30 </td><td>66 </td><td>102</td></tr>\n",
       "\t<tr><td>36 </td><td>81 </td><td>126</td></tr>\n",
       "\t<tr><td>42 </td><td>96 </td><td>150</td></tr>\n",
       "</tbody>\n",
       "</table>\n"
      ],
      "text/latex": [
       "\\begin{tabular}{lll}\n",
       "\t 30  & 66  & 102\\\\\n",
       "\t 36  & 81  & 126\\\\\n",
       "\t 42  & 96  & 150\\\\\n",
       "\\end{tabular}\n"
      ],
      "text/markdown": [
       "\n",
       "| 30  | 66  | 102 |\n",
       "| 36  | 81  | 126 |\n",
       "| 42  | 96  | 150 |\n",
       "\n"
      ],
      "text/plain": [
       "     [,1] [,2] [,3]\n",
       "[1,] 30   66   102 \n",
       "[2,] 36   81   126 \n",
       "[3,] 42   96   150 "
      ]
     },
     "metadata": {},
     "output_type": "display_data"
    }
   ],
   "source": [
    "# %*% uses actual matrix algebra multiplication\n",
    "mat2 %*% mat2"
   ]
  },
  {
   "cell_type": "code",
   "execution_count": 29,
   "metadata": {},
   "outputs": [
    {
     "data": {
      "text/html": [
       "<table>\n",
       "<thead><tr><th></th><th scope=col>Mon</th><th scope=col>Tue</th><th scope=col>Wed</th><th scope=col>Thu</th><th scope=col>Fri</th></tr></thead>\n",
       "<tbody>\n",
       "\t<tr><th scope=row>Lewiston</th><td>12</td><td>14</td><td>18</td><td>13</td><td>17</td></tr>\n",
       "\t<tr><th scope=row>Rocky Mount</th><td>11</td><td>19</td><td>21</td><td>15</td><td>18</td></tr>\n",
       "\t<tr><th scope=row>Whiteville</th><td>14</td><td>17</td><td>23</td><td>11</td><td> 9</td></tr>\n",
       "</tbody>\n",
       "</table>\n"
      ],
      "text/latex": [
       "\\begin{tabular}{r|lllll}\n",
       "  & Mon & Tue & Wed & Thu & Fri\\\\\n",
       "\\hline\n",
       "\tLewiston & 12 & 14 & 18 & 13 & 17\\\\\n",
       "\tRocky Mount & 11 & 19 & 21 & 15 & 18\\\\\n",
       "\tWhiteville & 14 & 17 & 23 & 11 &  9\\\\\n",
       "\\end{tabular}\n"
      ],
      "text/markdown": [
       "\n",
       "| <!--/--> | Mon | Tue | Wed | Thu | Fri |\n",
       "|---|---|---|---|---|---|\n",
       "| Lewiston | 12 | 14 | 18 | 13 | 17 |\n",
       "| Rocky Mount | 11 | 19 | 21 | 15 | 18 |\n",
       "| Whiteville | 14 | 17 | 23 | 11 |  9 |\n",
       "\n"
      ],
      "text/plain": [
       "            Mon Tue Wed Thu Fri\n",
       "Lewiston    12  14  18  13  17 \n",
       "Rocky Mount 11  19  21  15  18 \n",
       "Whiteville  14  17  23  11   9 "
      ]
     },
     "metadata": {},
     "output_type": "display_data"
    }
   ],
   "source": [
    "weights.matrix"
   ]
  },
  {
   "cell_type": "code",
   "execution_count": 30,
   "metadata": {},
   "outputs": [
    {
     "data": {
      "text/html": [
       "<dl class=dl-horizontal>\n",
       "\t<dt>Mon</dt>\n",
       "\t\t<dd>37</dd>\n",
       "\t<dt>Tue</dt>\n",
       "\t\t<dd>50</dd>\n",
       "\t<dt>Wed</dt>\n",
       "\t\t<dd>62</dd>\n",
       "\t<dt>Thu</dt>\n",
       "\t\t<dd>39</dd>\n",
       "\t<dt>Fri</dt>\n",
       "\t\t<dd>44</dd>\n",
       "</dl>\n"
      ],
      "text/latex": [
       "\\begin{description*}\n",
       "\\item[Mon] 37\n",
       "\\item[Tue] 50\n",
       "\\item[Wed] 62\n",
       "\\item[Thu] 39\n",
       "\\item[Fri] 44\n",
       "\\end{description*}\n"
      ],
      "text/markdown": [
       "Mon\n",
       ":   37Tue\n",
       ":   50Wed\n",
       ":   62Thu\n",
       ":   39Fri\n",
       ":   44\n",
       "\n"
      ],
      "text/plain": [
       "Mon Tue Wed Thu Fri \n",
       " 37  50  62  39  44 "
      ]
     },
     "metadata": {},
     "output_type": "display_data"
    }
   ],
   "source": [
    "#calc across columns using colSums()\n",
    "colSums(weights.matrix)"
   ]
  },
  {
   "cell_type": "code",
   "execution_count": 31,
   "metadata": {},
   "outputs": [
    {
     "data": {
      "text/html": [
       "<dl class=dl-horizontal>\n",
       "\t<dt>Lewiston</dt>\n",
       "\t\t<dd>74</dd>\n",
       "\t<dt>Rocky Mount</dt>\n",
       "\t\t<dd>84</dd>\n",
       "\t<dt>Whiteville</dt>\n",
       "\t\t<dd>74</dd>\n",
       "</dl>\n"
      ],
      "text/latex": [
       "\\begin{description*}\n",
       "\\item[Lewiston] 74\n",
       "\\item[Rocky Mount] 84\n",
       "\\item[Whiteville] 74\n",
       "\\end{description*}\n"
      ],
      "text/markdown": [
       "Lewiston\n",
       ":   74Rocky Mount\n",
       ":   84Whiteville\n",
       ":   74\n",
       "\n"
      ],
      "text/plain": [
       "   Lewiston Rocky Mount  Whiteville \n",
       "         74          84          74 "
      ]
     },
     "metadata": {},
     "output_type": "display_data"
    }
   ],
   "source": [
    "rowSums(weights.matrix)"
   ]
  },
  {
   "cell_type": "code",
   "execution_count": 32,
   "metadata": {},
   "outputs": [
    {
     "data": {
      "text/html": [
       "<dl class=dl-horizontal>\n",
       "\t<dt>Mon</dt>\n",
       "\t\t<dd>12.3333333333333</dd>\n",
       "\t<dt>Tue</dt>\n",
       "\t\t<dd>16.6666666666667</dd>\n",
       "\t<dt>Wed</dt>\n",
       "\t\t<dd>20.6666666666667</dd>\n",
       "\t<dt>Thu</dt>\n",
       "\t\t<dd>13</dd>\n",
       "\t<dt>Fri</dt>\n",
       "\t\t<dd>14.6666666666667</dd>\n",
       "</dl>\n"
      ],
      "text/latex": [
       "\\begin{description*}\n",
       "\\item[Mon] 12.3333333333333\n",
       "\\item[Tue] 16.6666666666667\n",
       "\\item[Wed] 20.6666666666667\n",
       "\\item[Thu] 13\n",
       "\\item[Fri] 14.6666666666667\n",
       "\\end{description*}\n"
      ],
      "text/markdown": [
       "Mon\n",
       ":   12.3333333333333Tue\n",
       ":   16.6666666666667Wed\n",
       ":   20.6666666666667Thu\n",
       ":   13Fri\n",
       ":   14.6666666666667\n",
       "\n"
      ],
      "text/plain": [
       "     Mon      Tue      Wed      Thu      Fri \n",
       "12.33333 16.66667 20.66667 13.00000 14.66667 "
      ]
     },
     "metadata": {},
     "output_type": "display_data"
    }
   ],
   "source": [
    "colMeans(weights.matrix)"
   ]
  },
  {
   "cell_type": "code",
   "execution_count": 33,
   "metadata": {},
   "outputs": [
    {
     "data": {
      "text/html": [
       "<dl class=dl-horizontal>\n",
       "\t<dt>Lewiston</dt>\n",
       "\t\t<dd>14.8</dd>\n",
       "\t<dt>Rocky Mount</dt>\n",
       "\t\t<dd>16.8</dd>\n",
       "\t<dt>Whiteville</dt>\n",
       "\t\t<dd>14.8</dd>\n",
       "</dl>\n"
      ],
      "text/latex": [
       "\\begin{description*}\n",
       "\\item[Lewiston] 14.8\n",
       "\\item[Rocky Mount] 16.8\n",
       "\\item[Whiteville] 14.8\n",
       "\\end{description*}\n"
      ],
      "text/markdown": [
       "Lewiston\n",
       ":   14.8Rocky Mount\n",
       ":   16.8Whiteville\n",
       ":   14.8\n",
       "\n"
      ],
      "text/plain": [
       "   Lewiston Rocky Mount  Whiteville \n",
       "       14.8        16.8        14.8 "
      ]
     },
     "metadata": {},
     "output_type": "display_data"
    }
   ],
   "source": [
    "rowMeans(weights.matrix)"
   ]
  },
  {
   "cell_type": "code",
   "execution_count": 35,
   "metadata": {},
   "outputs": [],
   "source": [
    "#Add the Clayton location onto weights.matrix\n",
    "Clayton <- c(17, 23, 15, 19, 13)"
   ]
  },
  {
   "cell_type": "code",
   "execution_count": 36,
   "metadata": {},
   "outputs": [
    {
     "data": {
      "text/html": [
       "<ol class=list-inline>\n",
       "\t<li>17</li>\n",
       "\t<li>23</li>\n",
       "\t<li>15</li>\n",
       "\t<li>19</li>\n",
       "\t<li>13</li>\n",
       "</ol>\n"
      ],
      "text/latex": [
       "\\begin{enumerate*}\n",
       "\\item 17\n",
       "\\item 23\n",
       "\\item 15\n",
       "\\item 19\n",
       "\\item 13\n",
       "\\end{enumerate*}\n"
      ],
      "text/markdown": [
       "1. 17\n",
       "2. 23\n",
       "3. 15\n",
       "4. 19\n",
       "5. 13\n",
       "\n",
       "\n"
      ],
      "text/plain": [
       "[1] 17 23 15 19 13"
      ]
     },
     "metadata": {},
     "output_type": "display_data"
    }
   ],
   "source": [
    "Clayton"
   ]
  },
  {
   "cell_type": "code",
   "execution_count": 37,
   "metadata": {},
   "outputs": [],
   "source": [
    "#add Clayton to weights.matrix\n",
    "#cbind() for column or rbind() for row\n",
    "ncsu.matrix <- rbind(weights.matrix, Clayton)"
   ]
  },
  {
   "cell_type": "code",
   "execution_count": 38,
   "metadata": {},
   "outputs": [
    {
     "data": {
      "text/html": [
       "<table>\n",
       "<thead><tr><th></th><th scope=col>Mon</th><th scope=col>Tue</th><th scope=col>Wed</th><th scope=col>Thu</th><th scope=col>Fri</th></tr></thead>\n",
       "<tbody>\n",
       "\t<tr><th scope=row>Lewiston</th><td>12</td><td>14</td><td>18</td><td>13</td><td>17</td></tr>\n",
       "\t<tr><th scope=row>Rocky Mount</th><td>11</td><td>19</td><td>21</td><td>15</td><td>18</td></tr>\n",
       "\t<tr><th scope=row>Whiteville</th><td>14</td><td>17</td><td>23</td><td>11</td><td> 9</td></tr>\n",
       "\t<tr><th scope=row>Clayton</th><td>17</td><td>23</td><td>15</td><td>19</td><td>13</td></tr>\n",
       "</tbody>\n",
       "</table>\n"
      ],
      "text/latex": [
       "\\begin{tabular}{r|lllll}\n",
       "  & Mon & Tue & Wed & Thu & Fri\\\\\n",
       "\\hline\n",
       "\tLewiston & 12 & 14 & 18 & 13 & 17\\\\\n",
       "\tRocky Mount & 11 & 19 & 21 & 15 & 18\\\\\n",
       "\tWhiteville & 14 & 17 & 23 & 11 &  9\\\\\n",
       "\tClayton & 17 & 23 & 15 & 19 & 13\\\\\n",
       "\\end{tabular}\n"
      ],
      "text/markdown": [
       "\n",
       "| <!--/--> | Mon | Tue | Wed | Thu | Fri |\n",
       "|---|---|---|---|---|---|\n",
       "| Lewiston | 12 | 14 | 18 | 13 | 17 |\n",
       "| Rocky Mount | 11 | 19 | 21 | 15 | 18 |\n",
       "| Whiteville | 14 | 17 | 23 | 11 |  9 |\n",
       "| Clayton | 17 | 23 | 15 | 19 | 13 |\n",
       "\n"
      ],
      "text/plain": [
       "            Mon Tue Wed Thu Fri\n",
       "Lewiston    12  14  18  13  17 \n",
       "Rocky Mount 11  19  21  15  18 \n",
       "Whiteville  14  17  23  11   9 \n",
       "Clayton     17  23  15  19  13 "
      ]
     },
     "metadata": {},
     "output_type": "display_data"
    }
   ],
   "source": [
    "ncsu.matrix"
   ]
  },
  {
   "cell_type": "code",
   "execution_count": 39,
   "metadata": {},
   "outputs": [
    {
     "data": {
      "text/html": [
       "<dl class=dl-horizontal>\n",
       "\t<dt>Lewiston</dt>\n",
       "\t\t<dd>14.8</dd>\n",
       "\t<dt>Rocky Mount</dt>\n",
       "\t\t<dd>16.8</dd>\n",
       "\t<dt>Whiteville</dt>\n",
       "\t\t<dd>14.8</dd>\n",
       "\t<dt>Clayton</dt>\n",
       "\t\t<dd>17.4</dd>\n",
       "</dl>\n"
      ],
      "text/latex": [
       "\\begin{description*}\n",
       "\\item[Lewiston] 14.8\n",
       "\\item[Rocky Mount] 16.8\n",
       "\\item[Whiteville] 14.8\n",
       "\\item[Clayton] 17.4\n",
       "\\end{description*}\n"
      ],
      "text/markdown": [
       "Lewiston\n",
       ":   14.8Rocky Mount\n",
       ":   16.8Whiteville\n",
       ":   14.8Clayton\n",
       ":   17.4\n",
       "\n"
      ],
      "text/plain": [
       "   Lewiston Rocky Mount  Whiteville     Clayton \n",
       "       14.8        16.8        14.8        17.4 "
      ]
     },
     "metadata": {},
     "output_type": "display_data"
    }
   ],
   "source": [
    "loc.means <- rowMeans(ncsu.matrix)\n",
    "loc.means"
   ]
  },
  {
   "cell_type": "code",
   "execution_count": 40,
   "metadata": {},
   "outputs": [
    {
     "data": {
      "text/html": [
       "<table>\n",
       "<thead><tr><th></th><th scope=col>Mon</th><th scope=col>Tue</th><th scope=col>Wed</th><th scope=col>Thu</th><th scope=col>Fri</th><th scope=col>loc.means</th></tr></thead>\n",
       "<tbody>\n",
       "\t<tr><th scope=row>Lewiston</th><td>12  </td><td>14  </td><td>18  </td><td>13  </td><td>17  </td><td>14.8</td></tr>\n",
       "\t<tr><th scope=row>Rocky Mount</th><td>11  </td><td>19  </td><td>21  </td><td>15  </td><td>18  </td><td>16.8</td></tr>\n",
       "\t<tr><th scope=row>Whiteville</th><td>14  </td><td>17  </td><td>23  </td><td>11  </td><td> 9  </td><td>14.8</td></tr>\n",
       "\t<tr><th scope=row>Clayton</th><td>17  </td><td>23  </td><td>15  </td><td>19  </td><td>13  </td><td>17.4</td></tr>\n",
       "</tbody>\n",
       "</table>\n"
      ],
      "text/latex": [
       "\\begin{tabular}{r|llllll}\n",
       "  & Mon & Tue & Wed & Thu & Fri & loc.means\\\\\n",
       "\\hline\n",
       "\tLewiston & 12   & 14   & 18   & 13   & 17   & 14.8\\\\\n",
       "\tRocky Mount & 11   & 19   & 21   & 15   & 18   & 16.8\\\\\n",
       "\tWhiteville & 14   & 17   & 23   & 11   &  9   & 14.8\\\\\n",
       "\tClayton & 17   & 23   & 15   & 19   & 13   & 17.4\\\\\n",
       "\\end{tabular}\n"
      ],
      "text/markdown": [
       "\n",
       "| <!--/--> | Mon | Tue | Wed | Thu | Fri | loc.means |\n",
       "|---|---|---|---|---|---|---|\n",
       "| Lewiston | 12   | 14   | 18   | 13   | 17   | 14.8 |\n",
       "| Rocky Mount | 11   | 19   | 21   | 15   | 18   | 16.8 |\n",
       "| Whiteville | 14   | 17   | 23   | 11   |  9   | 14.8 |\n",
       "| Clayton | 17   | 23   | 15   | 19   | 13   | 17.4 |\n",
       "\n"
      ],
      "text/plain": [
       "            Mon Tue Wed Thu Fri loc.means\n",
       "Lewiston    12  14  18  13  17  14.8     \n",
       "Rocky Mount 11  19  21  15  18  16.8     \n",
       "Whiteville  14  17  23  11   9  14.8     \n",
       "Clayton     17  23  15  19  13  17.4     "
      ]
     },
     "metadata": {},
     "output_type": "display_data"
    }
   ],
   "source": [
    "ncsu.matrix <- cbind(ncsu.matrix, loc.means)\n",
    "ncsu.matrix"
   ]
  },
  {
   "cell_type": "code",
   "execution_count": 41,
   "metadata": {},
   "outputs": [],
   "source": [
    "short <- c(2,18,12)\n",
    "long <- c(12,11,10,9,8)"
   ]
  },
  {
   "cell_type": "code",
   "execution_count": 43,
   "metadata": {},
   "outputs": [
    {
     "name": "stderr",
     "output_type": "stream",
     "text": [
      "Warning message in cbind(ncsu2.matrix, short):\n",
      "\"number of rows of result is not a multiple of vector length (arg 2)\""
     ]
    },
    {
     "data": {
      "text/html": [
       "<table>\n",
       "<thead><tr><th></th><th scope=col>Mon</th><th scope=col>Tue</th><th scope=col>Wed</th><th scope=col>Thu</th><th scope=col>Fri</th><th scope=col>loc.means</th><th scope=col>short</th></tr></thead>\n",
       "<tbody>\n",
       "\t<tr><th scope=row>Lewiston</th><td>12  </td><td>14  </td><td>18  </td><td>13  </td><td>17  </td><td>14.8</td><td> 2  </td></tr>\n",
       "\t<tr><th scope=row>Rocky Mount</th><td>11  </td><td>19  </td><td>21  </td><td>15  </td><td>18  </td><td>16.8</td><td>18  </td></tr>\n",
       "\t<tr><th scope=row>Whiteville</th><td>14  </td><td>17  </td><td>23  </td><td>11  </td><td> 9  </td><td>14.8</td><td>12  </td></tr>\n",
       "\t<tr><th scope=row>Clayton</th><td>17  </td><td>23  </td><td>15  </td><td>19  </td><td>13  </td><td>17.4</td><td> 2  </td></tr>\n",
       "</tbody>\n",
       "</table>\n"
      ],
      "text/latex": [
       "\\begin{tabular}{r|lllllll}\n",
       "  & Mon & Tue & Wed & Thu & Fri & loc.means & short\\\\\n",
       "\\hline\n",
       "\tLewiston & 12   & 14   & 18   & 13   & 17   & 14.8 &  2  \\\\\n",
       "\tRocky Mount & 11   & 19   & 21   & 15   & 18   & 16.8 & 18  \\\\\n",
       "\tWhiteville & 14   & 17   & 23   & 11   &  9   & 14.8 & 12  \\\\\n",
       "\tClayton & 17   & 23   & 15   & 19   & 13   & 17.4 &  2  \\\\\n",
       "\\end{tabular}\n"
      ],
      "text/markdown": [
       "\n",
       "| <!--/--> | Mon | Tue | Wed | Thu | Fri | loc.means | short |\n",
       "|---|---|---|---|---|---|---|---|\n",
       "| Lewiston | 12   | 14   | 18   | 13   | 17   | 14.8 |  2   |\n",
       "| Rocky Mount | 11   | 19   | 21   | 15   | 18   | 16.8 | 18   |\n",
       "| Whiteville | 14   | 17   | 23   | 11   |  9   | 14.8 | 12   |\n",
       "| Clayton | 17   | 23   | 15   | 19   | 13   | 17.4 |  2   |\n",
       "\n"
      ],
      "text/plain": [
       "            Mon Tue Wed Thu Fri loc.means short\n",
       "Lewiston    12  14  18  13  17  14.8       2   \n",
       "Rocky Mount 11  19  21  15  18  16.8      18   \n",
       "Whiteville  14  17  23  11   9  14.8      12   \n",
       "Clayton     17  23  15  19  13  17.4       2   "
      ]
     },
     "metadata": {},
     "output_type": "display_data"
    }
   ],
   "source": [
    "ncsu2.matrix <- ncsu.matrix\n",
    "cbind(ncsu2.matrix, short)"
   ]
  },
  {
   "cell_type": "code",
   "execution_count": 44,
   "metadata": {},
   "outputs": [
    {
     "name": "stderr",
     "output_type": "stream",
     "text": [
      "Warning message in cbind(ncsu2.matrix, long):\n",
      "\"number of rows of result is not a multiple of vector length (arg 2)\""
     ]
    },
    {
     "data": {
      "text/html": [
       "<table>\n",
       "<thead><tr><th></th><th scope=col>Mon</th><th scope=col>Tue</th><th scope=col>Wed</th><th scope=col>Thu</th><th scope=col>Fri</th><th scope=col>loc.means</th><th scope=col>long</th></tr></thead>\n",
       "<tbody>\n",
       "\t<tr><th scope=row>Lewiston</th><td>12  </td><td>14  </td><td>18  </td><td>13  </td><td>17  </td><td>14.8</td><td>12  </td></tr>\n",
       "\t<tr><th scope=row>Rocky Mount</th><td>11  </td><td>19  </td><td>21  </td><td>15  </td><td>18  </td><td>16.8</td><td>11  </td></tr>\n",
       "\t<tr><th scope=row>Whiteville</th><td>14  </td><td>17  </td><td>23  </td><td>11  </td><td> 9  </td><td>14.8</td><td>10  </td></tr>\n",
       "\t<tr><th scope=row>Clayton</th><td>17  </td><td>23  </td><td>15  </td><td>19  </td><td>13  </td><td>17.4</td><td> 9  </td></tr>\n",
       "</tbody>\n",
       "</table>\n"
      ],
      "text/latex": [
       "\\begin{tabular}{r|lllllll}\n",
       "  & Mon & Tue & Wed & Thu & Fri & loc.means & long\\\\\n",
       "\\hline\n",
       "\tLewiston & 12   & 14   & 18   & 13   & 17   & 14.8 & 12  \\\\\n",
       "\tRocky Mount & 11   & 19   & 21   & 15   & 18   & 16.8 & 11  \\\\\n",
       "\tWhiteville & 14   & 17   & 23   & 11   &  9   & 14.8 & 10  \\\\\n",
       "\tClayton & 17   & 23   & 15   & 19   & 13   & 17.4 &  9  \\\\\n",
       "\\end{tabular}\n"
      ],
      "text/markdown": [
       "\n",
       "| <!--/--> | Mon | Tue | Wed | Thu | Fri | loc.means | long |\n",
       "|---|---|---|---|---|---|---|---|\n",
       "| Lewiston | 12   | 14   | 18   | 13   | 17   | 14.8 | 12   |\n",
       "| Rocky Mount | 11   | 19   | 21   | 15   | 18   | 16.8 | 11   |\n",
       "| Whiteville | 14   | 17   | 23   | 11   |  9   | 14.8 | 10   |\n",
       "| Clayton | 17   | 23   | 15   | 19   | 13   | 17.4 |  9   |\n",
       "\n"
      ],
      "text/plain": [
       "            Mon Tue Wed Thu Fri loc.means long\n",
       "Lewiston    12  14  18  13  17  14.8      12  \n",
       "Rocky Mount 11  19  21  15  18  16.8      11  \n",
       "Whiteville  14  17  23  11   9  14.8      10  \n",
       "Clayton     17  23  15  19  13  17.4       9  "
      ]
     },
     "metadata": {},
     "output_type": "display_data"
    }
   ],
   "source": [
    "cbind(ncsu2.matrix,long)"
   ]
  },
  {
   "cell_type": "code",
   "execution_count": 45,
   "metadata": {},
   "outputs": [
    {
     "data": {
      "text/html": [
       "<table>\n",
       "<tbody>\n",
       "\t<tr><td> 1</td><td> 2</td><td> 3</td><td> 4</td><td> 5</td><td> 6</td><td> 7</td><td> 8</td><td> 9</td><td>10</td></tr>\n",
       "\t<tr><td>11</td><td>12</td><td>13</td><td>14</td><td>15</td><td>16</td><td>17</td><td>18</td><td>19</td><td>20</td></tr>\n",
       "\t<tr><td>21</td><td>22</td><td>23</td><td>24</td><td>25</td><td>26</td><td>27</td><td>28</td><td>29</td><td>30</td></tr>\n",
       "\t<tr><td>31</td><td>32</td><td>33</td><td>34</td><td>35</td><td>36</td><td>37</td><td>38</td><td>39</td><td>40</td></tr>\n",
       "\t<tr><td>41</td><td>42</td><td>43</td><td>44</td><td>45</td><td>46</td><td>47</td><td>48</td><td>49</td><td>50</td></tr>\n",
       "</tbody>\n",
       "</table>\n"
      ],
      "text/latex": [
       "\\begin{tabular}{llllllllll}\n",
       "\t  1 &  2 &  3 &  4 &  5 &  6 &  7 &  8 &  9 & 10\\\\\n",
       "\t 11 & 12 & 13 & 14 & 15 & 16 & 17 & 18 & 19 & 20\\\\\n",
       "\t 21 & 22 & 23 & 24 & 25 & 26 & 27 & 28 & 29 & 30\\\\\n",
       "\t 31 & 32 & 33 & 34 & 35 & 36 & 37 & 38 & 39 & 40\\\\\n",
       "\t 41 & 42 & 43 & 44 & 45 & 46 & 47 & 48 & 49 & 50\\\\\n",
       "\\end{tabular}\n"
      ],
      "text/markdown": [
       "\n",
       "|  1 |  2 |  3 |  4 |  5 |  6 |  7 |  8 |  9 | 10 |\n",
       "| 11 | 12 | 13 | 14 | 15 | 16 | 17 | 18 | 19 | 20 |\n",
       "| 21 | 22 | 23 | 24 | 25 | 26 | 27 | 28 | 29 | 30 |\n",
       "| 31 | 32 | 33 | 34 | 35 | 36 | 37 | 38 | 39 | 40 |\n",
       "| 41 | 42 | 43 | 44 | 45 | 46 | 47 | 48 | 49 | 50 |\n",
       "\n"
      ],
      "text/plain": [
       "     [,1] [,2] [,3] [,4] [,5] [,6] [,7] [,8] [,9] [,10]\n",
       "[1,]  1    2    3    4    5    6    7    8    9   10   \n",
       "[2,] 11   12   13   14   15   16   17   18   19   20   \n",
       "[3,] 21   22   23   24   25   26   27   28   29   30   \n",
       "[4,] 31   32   33   34   35   36   37   38   39   40   \n",
       "[5,] 41   42   43   44   45   46   47   48   49   50   "
      ]
     },
     "metadata": {},
     "output_type": "display_data"
    }
   ],
   "source": [
    "#example.matrix(row,col)\n",
    "mat <- matrix(1:50, byrow=TRUE, nrow=5)\n",
    "mat"
   ]
  },
  {
   "cell_type": "code",
   "execution_count": 49,
   "metadata": {},
   "outputs": [
    {
     "data": {
      "text/html": [
       "<ol class=list-inline>\n",
       "\t<li>1</li>\n",
       "\t<li>11</li>\n",
       "\t<li>21</li>\n",
       "\t<li>31</li>\n",
       "\t<li>41</li>\n",
       "</ol>\n"
      ],
      "text/latex": [
       "\\begin{enumerate*}\n",
       "\\item 1\n",
       "\\item 11\n",
       "\\item 21\n",
       "\\item 31\n",
       "\\item 41\n",
       "\\end{enumerate*}\n"
      ],
      "text/markdown": [
       "1. 1\n",
       "2. 11\n",
       "3. 21\n",
       "4. 31\n",
       "5. 41\n",
       "\n",
       "\n"
      ],
      "text/plain": [
       "[1]  1 11 21 31 41"
      ]
     },
     "metadata": {},
     "output_type": "display_data"
    }
   ],
   "source": [
    "#before comma in index gives row\n",
    "#after comma in index gives column\n",
    "#column 1 pulled here\n",
    "mat[,1]"
   ]
  },
  {
   "cell_type": "code",
   "execution_count": 48,
   "metadata": {},
   "outputs": [
    {
     "data": {
      "text/html": [
       "<table>\n",
       "<tbody>\n",
       "\t<tr><td> 1</td><td> 2</td><td> 3</td><td> 4</td><td> 5</td><td> 6</td><td> 7</td><td> 8</td><td> 9</td><td>10</td></tr>\n",
       "\t<tr><td>11</td><td>12</td><td>13</td><td>14</td><td>15</td><td>16</td><td>17</td><td>18</td><td>19</td><td>20</td></tr>\n",
       "\t<tr><td>21</td><td>22</td><td>23</td><td>24</td><td>25</td><td>26</td><td>27</td><td>28</td><td>29</td><td>30</td></tr>\n",
       "</tbody>\n",
       "</table>\n"
      ],
      "text/latex": [
       "\\begin{tabular}{llllllllll}\n",
       "\t  1 &  2 &  3 &  4 &  5 &  6 &  7 &  8 &  9 & 10\\\\\n",
       "\t 11 & 12 & 13 & 14 & 15 & 16 & 17 & 18 & 19 & 20\\\\\n",
       "\t 21 & 22 & 23 & 24 & 25 & 26 & 27 & 28 & 29 & 30\\\\\n",
       "\\end{tabular}\n"
      ],
      "text/markdown": [
       "\n",
       "|  1 |  2 |  3 |  4 |  5 |  6 |  7 |  8 |  9 | 10 |\n",
       "| 11 | 12 | 13 | 14 | 15 | 16 | 17 | 18 | 19 | 20 |\n",
       "| 21 | 22 | 23 | 24 | 25 | 26 | 27 | 28 | 29 | 30 |\n",
       "\n"
      ],
      "text/plain": [
       "     [,1] [,2] [,3] [,4] [,5] [,6] [,7] [,8] [,9] [,10]\n",
       "[1,]  1    2    3    4    5    6    7    8    9   10   \n",
       "[2,] 11   12   13   14   15   16   17   18   19   20   \n",
       "[3,] 21   22   23   24   25   26   27   28   29   30   "
      ]
     },
     "metadata": {},
     "output_type": "display_data"
    }
   ],
   "source": [
    "mat[1:3,]"
   ]
  },
  {
   "cell_type": "code",
   "execution_count": 50,
   "metadata": {},
   "outputs": [
    {
     "data": {
      "text/html": [
       "<table>\n",
       "<tbody>\n",
       "\t<tr><td> 1</td><td> 2</td><td> 3</td></tr>\n",
       "\t<tr><td>11</td><td>12</td><td>13</td></tr>\n",
       "</tbody>\n",
       "</table>\n"
      ],
      "text/latex": [
       "\\begin{tabular}{lll}\n",
       "\t  1 &  2 &  3\\\\\n",
       "\t 11 & 12 & 13\\\\\n",
       "\\end{tabular}\n"
      ],
      "text/markdown": [
       "\n",
       "|  1 |  2 |  3 |\n",
       "| 11 | 12 | 13 |\n",
       "\n"
      ],
      "text/plain": [
       "     [,1] [,2] [,3]\n",
       "[1,]  1    2    3  \n",
       "[2,] 11   12   13  "
      ]
     },
     "metadata": {},
     "output_type": "display_data"
    }
   ],
   "source": [
    "mat[1:2,1:3]"
   ]
  },
  {
   "cell_type": "code",
   "execution_count": 51,
   "metadata": {},
   "outputs": [
    {
     "data": {
      "text/html": [
       "<ol class=list-inline>\n",
       "\t<li>15</li>\n",
       "\t<li>16</li>\n",
       "</ol>\n"
      ],
      "text/latex": [
       "\\begin{enumerate*}\n",
       "\\item 15\n",
       "\\item 16\n",
       "\\end{enumerate*}\n"
      ],
      "text/markdown": [
       "1. 15\n",
       "2. 16\n",
       "\n",
       "\n"
      ],
      "text/plain": [
       "[1] 15 16"
      ]
     },
     "metadata": {},
     "output_type": "display_data"
    }
   ],
   "source": [
    "mat[2,5:6]"
   ]
  },
  {
   "cell_type": "code",
   "execution_count": 52,
   "metadata": {},
   "outputs": [],
   "source": [
    "#factor and categorical matrices\n",
    "#factor() function\n",
    "#ex; one-way anova; when import categorical data need to define as a factor\n",
    "#example P=peanut, M=maize, S=soybean, C=cotton\n",
    "crop <- c('P', 'P', 'M', 'C', 'S', 'S', 'M', 'C', 'P', 'C')\n",
    "id <- c(1,2,3,4,5,6,7,8,9,10)"
   ]
  },
  {
   "cell_type": "code",
   "execution_count": 53,
   "metadata": {},
   "outputs": [],
   "source": [
    "factor.crop <- factor(crop)"
   ]
  },
  {
   "cell_type": "code",
   "execution_count": 54,
   "metadata": {},
   "outputs": [
    {
     "data": {
      "text/html": [
       "<ol class=list-inline>\n",
       "\t<li>P</li>\n",
       "\t<li>P</li>\n",
       "\t<li>M</li>\n",
       "\t<li>C</li>\n",
       "\t<li>S</li>\n",
       "\t<li>S</li>\n",
       "\t<li>M</li>\n",
       "\t<li>C</li>\n",
       "\t<li>P</li>\n",
       "\t<li>C</li>\n",
       "</ol>\n",
       "\n",
       "<details>\n",
       "\t<summary style=display:list-item;cursor:pointer>\n",
       "\t\t<strong>Levels</strong>:\n",
       "\t</summary>\n",
       "\t<ol class=list-inline>\n",
       "\t\t<li>'C'</li>\n",
       "\t\t<li>'M'</li>\n",
       "\t\t<li>'P'</li>\n",
       "\t\t<li>'S'</li>\n",
       "\t</ol>\n",
       "</details>"
      ],
      "text/latex": [
       "\\begin{enumerate*}\n",
       "\\item P\n",
       "\\item P\n",
       "\\item M\n",
       "\\item C\n",
       "\\item S\n",
       "\\item S\n",
       "\\item M\n",
       "\\item C\n",
       "\\item P\n",
       "\\item C\n",
       "\\end{enumerate*}\n",
       "\n",
       "\\emph{Levels}: \\begin{enumerate*}\n",
       "\\item 'C'\n",
       "\\item 'M'\n",
       "\\item 'P'\n",
       "\\item 'S'\n",
       "\\end{enumerate*}\n"
      ],
      "text/markdown": [
       "1. P\n",
       "2. P\n",
       "3. M\n",
       "4. C\n",
       "5. S\n",
       "6. S\n",
       "7. M\n",
       "8. C\n",
       "9. P\n",
       "10. C\n",
       "\n",
       "\n",
       "\n",
       "**Levels**: 1. 'C'\n",
       "2. 'M'\n",
       "3. 'P'\n",
       "4. 'S'\n",
       "\n",
       "\n"
      ],
      "text/plain": [
       " [1] P P M C S S M C P C\n",
       "Levels: C M P S"
      ]
     },
     "metadata": {},
     "output_type": "display_data"
    }
   ],
   "source": [
    "#levels picks out levels/groups of your factor/categorical data\n",
    "#crop is nominal variable (does not have ordinal levels)\n",
    "factor.crop"
   ]
  },
  {
   "cell_type": "code",
   "execution_count": 55,
   "metadata": {},
   "outputs": [],
   "source": [
    "#ordinal data has defined order of levels (ex heat)\n",
    "#ordered=TRUE\n",
    "#levels = c('The order')\n",
    "ord.cat <- c('cold', 'med', 'hot')"
   ]
  },
  {
   "cell_type": "code",
   "execution_count": 59,
   "metadata": {},
   "outputs": [],
   "source": [
    "temps <- c('cold', 'hot', 'hot', 'med', 'cold', 'hot', 'med', 'cold', 'med')\n",
    "fact.temps <- factor(temps, ordered=TRUE, levels=c('cold','med','hot'))"
   ]
  },
  {
   "cell_type": "code",
   "execution_count": 60,
   "metadata": {},
   "outputs": [
    {
     "data": {
      "text/html": [
       "<ol class=list-inline>\n",
       "\t<li>cold</li>\n",
       "\t<li>hot</li>\n",
       "\t<li>hot</li>\n",
       "\t<li>med</li>\n",
       "\t<li>cold</li>\n",
       "\t<li>hot</li>\n",
       "\t<li>med</li>\n",
       "\t<li>cold</li>\n",
       "\t<li>med</li>\n",
       "</ol>\n",
       "\n",
       "<details>\n",
       "\t<summary style=display:list-item;cursor:pointer>\n",
       "\t\t<strong>Levels</strong>:\n",
       "\t</summary>\n",
       "\t<ol class=list-inline>\n",
       "\t\t<li>'cold'</li>\n",
       "\t\t<li>'med'</li>\n",
       "\t\t<li>'hot'</li>\n",
       "\t</ol>\n",
       "</details>"
      ],
      "text/latex": [
       "\\begin{enumerate*}\n",
       "\\item cold\n",
       "\\item hot\n",
       "\\item hot\n",
       "\\item med\n",
       "\\item cold\n",
       "\\item hot\n",
       "\\item med\n",
       "\\item cold\n",
       "\\item med\n",
       "\\end{enumerate*}\n",
       "\n",
       "\\emph{Levels}: \\begin{enumerate*}\n",
       "\\item 'cold'\n",
       "\\item 'med'\n",
       "\\item 'hot'\n",
       "\\end{enumerate*}\n"
      ],
      "text/markdown": [
       "1. cold\n",
       "2. hot\n",
       "3. hot\n",
       "4. med\n",
       "5. cold\n",
       "6. hot\n",
       "7. med\n",
       "8. cold\n",
       "9. med\n",
       "\n",
       "\n",
       "\n",
       "**Levels**: 1. 'cold'\n",
       "2. 'med'\n",
       "3. 'hot'\n",
       "\n",
       "\n"
      ],
      "text/plain": [
       "[1] cold hot  hot  med  cold hot  med  cold med \n",
       "Levels: cold < med < hot"
      ]
     },
     "metadata": {},
     "output_type": "display_data"
    }
   ],
   "source": [
    "fact.temps"
   ]
  },
  {
   "cell_type": "code",
   "execution_count": 61,
   "metadata": {},
   "outputs": [],
   "source": [
    "temps <- c('cold', 'hot', 'hot', 'med', 'cold', 'hot', 'med', 'cold', 'med')\n",
    "fact.temps1 <- factor(temps, ordered=TRUE, levels=ord.cat) #since we already defined order as ord.cat, can assign using that"
   ]
  },
  {
   "cell_type": "code",
   "execution_count": 62,
   "metadata": {},
   "outputs": [
    {
     "data": {
      "text/html": [
       "<ol class=list-inline>\n",
       "\t<li>cold</li>\n",
       "\t<li>hot</li>\n",
       "\t<li>hot</li>\n",
       "\t<li>med</li>\n",
       "\t<li>cold</li>\n",
       "\t<li>hot</li>\n",
       "\t<li>med</li>\n",
       "\t<li>cold</li>\n",
       "\t<li>med</li>\n",
       "</ol>\n",
       "\n",
       "<details>\n",
       "\t<summary style=display:list-item;cursor:pointer>\n",
       "\t\t<strong>Levels</strong>:\n",
       "\t</summary>\n",
       "\t<ol class=list-inline>\n",
       "\t\t<li>'cold'</li>\n",
       "\t\t<li>'med'</li>\n",
       "\t\t<li>'hot'</li>\n",
       "\t</ol>\n",
       "</details>"
      ],
      "text/latex": [
       "\\begin{enumerate*}\n",
       "\\item cold\n",
       "\\item hot\n",
       "\\item hot\n",
       "\\item med\n",
       "\\item cold\n",
       "\\item hot\n",
       "\\item med\n",
       "\\item cold\n",
       "\\item med\n",
       "\\end{enumerate*}\n",
       "\n",
       "\\emph{Levels}: \\begin{enumerate*}\n",
       "\\item 'cold'\n",
       "\\item 'med'\n",
       "\\item 'hot'\n",
       "\\end{enumerate*}\n"
      ],
      "text/markdown": [
       "1. cold\n",
       "2. hot\n",
       "3. hot\n",
       "4. med\n",
       "5. cold\n",
       "6. hot\n",
       "7. med\n",
       "8. cold\n",
       "9. med\n",
       "\n",
       "\n",
       "\n",
       "**Levels**: 1. 'cold'\n",
       "2. 'med'\n",
       "3. 'hot'\n",
       "\n",
       "\n"
      ],
      "text/plain": [
       "[1] cold hot  hot  med  cold hot  med  cold med \n",
       "Levels: cold < med < hot"
      ]
     },
     "metadata": {},
     "output_type": "display_data"
    }
   ],
   "source": [
    "fact.temps1"
   ]
  },
  {
   "cell_type": "code",
   "execution_count": 63,
   "metadata": {},
   "outputs": [
    {
     "data": {
      "text/plain": [
       "   Length     Class      Mode \n",
       "        9 character character "
      ]
     },
     "metadata": {},
     "output_type": "display_data"
    }
   ],
   "source": [
    "summary(temps)"
   ]
  },
  {
   "cell_type": "code",
   "execution_count": 64,
   "metadata": {},
   "outputs": [
    {
     "data": {
      "text/html": [
       "<dl class=dl-horizontal>\n",
       "\t<dt>cold</dt>\n",
       "\t\t<dd>3</dd>\n",
       "\t<dt>med</dt>\n",
       "\t\t<dd>3</dd>\n",
       "\t<dt>hot</dt>\n",
       "\t\t<dd>3</dd>\n",
       "</dl>\n"
      ],
      "text/latex": [
       "\\begin{description*}\n",
       "\\item[cold] 3\n",
       "\\item[med] 3\n",
       "\\item[hot] 3\n",
       "\\end{description*}\n"
      ],
      "text/markdown": [
       "cold\n",
       ":   3med\n",
       ":   3hot\n",
       ":   3\n",
       "\n"
      ],
      "text/plain": [
       "cold  med  hot \n",
       "   3    3    3 "
      ]
     },
     "metadata": {},
     "output_type": "display_data"
    }
   ],
   "source": [
    "summary(fact.temps)"
   ]
  },
  {
   "cell_type": "code",
   "execution_count": null,
   "metadata": {},
   "outputs": [],
   "source": []
  }
 ],
 "metadata": {
  "kernelspec": {
   "display_name": "R",
   "language": "R",
   "name": "ir"
  },
  "language_info": {
   "codemirror_mode": "r",
   "file_extension": ".r",
   "mimetype": "text/x-r-source",
   "name": "R",
   "pygments_lexer": "r",
   "version": "3.6.1"
  }
 },
 "nbformat": 4,
 "nbformat_minor": 2
}
