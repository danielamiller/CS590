{
 "cells": [
  {
   "cell_type": "code",
   "execution_count": 21,
   "metadata": {},
   "outputs": [],
   "source": [
    "#Experiment: wheat grown under different vernalization treatments in greenhouse\n",
    "#Goal 1: tidy data\n",
    "#Goal 2: create a violin plot of greenhouse trial heading dates (Zadoks stage 59)\n",
    "#Goal 2: create a boxplot of field heading dates"
   ]
  },
  {
   "cell_type": "code",
   "execution_count": 22,
   "metadata": {},
   "outputs": [
    {
     "data": {
      "text/html": [
       "<table>\n",
       "<thead><tr><th scope=col>rep</th><th scope=col>geno</th><th scope=col>st59</th></tr></thead>\n",
       "<tbody>\n",
       "\t<tr><td>1  </td><td>1  </td><td>126</td></tr>\n",
       "\t<tr><td>2  </td><td>1  </td><td>153</td></tr>\n",
       "\t<tr><td>3  </td><td>1  </td><td>117</td></tr>\n",
       "\t<tr><td>4  </td><td>1  </td><td>119</td></tr>\n",
       "\t<tr><td>5  </td><td>1  </td><td>125</td></tr>\n",
       "\t<tr><td>6  </td><td>1  </td><td>115</td></tr>\n",
       "</tbody>\n",
       "</table>\n"
      ],
      "text/latex": [
       "\\begin{tabular}{r|lll}\n",
       " rep & geno & st59\\\\\n",
       "\\hline\n",
       "\t 1   & 1   & 126\\\\\n",
       "\t 2   & 1   & 153\\\\\n",
       "\t 3   & 1   & 117\\\\\n",
       "\t 4   & 1   & 119\\\\\n",
       "\t 5   & 1   & 125\\\\\n",
       "\t 6   & 1   & 115\\\\\n",
       "\\end{tabular}\n"
      ],
      "text/markdown": [
       "\n",
       "| rep | geno | st59 |\n",
       "|---|---|---|\n",
       "| 1   | 1   | 126 |\n",
       "| 2   | 1   | 153 |\n",
       "| 3   | 1   | 117 |\n",
       "| 4   | 1   | 119 |\n",
       "| 5   | 1   | 125 |\n",
       "| 6   | 1   | 115 |\n",
       "\n"
      ],
      "text/plain": [
       "  rep geno st59\n",
       "1 1   1    126 \n",
       "2 2   1    153 \n",
       "3 3   1    117 \n",
       "4 4   1    119 \n",
       "5 5   1    125 \n",
       "6 6   1    115 "
      ]
     },
     "metadata": {},
     "output_type": "display_data"
    }
   ],
   "source": [
    "#load library\n",
    "library(tibble)\n",
    "library(ggplot2)\n",
    "#datasets were stored in separate files per vernalization treatment\n",
    "#import dataset \"2014-2week.csv\"\n",
    "wk2trt2014 <- read.table(\"C:/Users/Daniela/Documents/GBS-data/MD233xSS8641_Oct2018/all-markers-R/lsmeans/GHdata/2014-2week.csv\",header=TRUE,sep=\",\",na.strings=\".\")\n",
    "head(wk2trt2014)"
   ]
  },
  {
   "cell_type": "code",
   "execution_count": 23,
   "metadata": {},
   "outputs": [
    {
     "data": {
      "text/html": [
       "<table>\n",
       "<thead><tr><th scope=col>rep</th><th scope=col>geno</th><th scope=col>st59</th><th scope=col>treatment</th><th scope=col>year</th></tr></thead>\n",
       "<tbody>\n",
       "\t<tr><td>1     </td><td>1     </td><td>126   </td><td>2 week</td><td>2014  </td></tr>\n",
       "\t<tr><td>2     </td><td>1     </td><td>153   </td><td>2 week</td><td>2014  </td></tr>\n",
       "\t<tr><td>3     </td><td>1     </td><td>117   </td><td>2 week</td><td>2014  </td></tr>\n",
       "\t<tr><td>4     </td><td>1     </td><td>119   </td><td>2 week</td><td>2014  </td></tr>\n",
       "\t<tr><td>5     </td><td>1     </td><td>125   </td><td>2 week</td><td>2014  </td></tr>\n",
       "\t<tr><td>6     </td><td>1     </td><td>115   </td><td>2 week</td><td>2014  </td></tr>\n",
       "</tbody>\n",
       "</table>\n"
      ],
      "text/latex": [
       "\\begin{tabular}{r|lllll}\n",
       " rep & geno & st59 & treatment & year\\\\\n",
       "\\hline\n",
       "\t 1      & 1      & 126    & 2 week & 2014  \\\\\n",
       "\t 2      & 1      & 153    & 2 week & 2014  \\\\\n",
       "\t 3      & 1      & 117    & 2 week & 2014  \\\\\n",
       "\t 4      & 1      & 119    & 2 week & 2014  \\\\\n",
       "\t 5      & 1      & 125    & 2 week & 2014  \\\\\n",
       "\t 6      & 1      & 115    & 2 week & 2014  \\\\\n",
       "\\end{tabular}\n"
      ],
      "text/markdown": [
       "\n",
       "| rep | geno | st59 | treatment | year |\n",
       "|---|---|---|---|---|\n",
       "| 1      | 1      | 126    | 2 week | 2014   |\n",
       "| 2      | 1      | 153    | 2 week | 2014   |\n",
       "| 3      | 1      | 117    | 2 week | 2014   |\n",
       "| 4      | 1      | 119    | 2 week | 2014   |\n",
       "| 5      | 1      | 125    | 2 week | 2014   |\n",
       "| 6      | 1      | 115    | 2 week | 2014   |\n",
       "\n"
      ],
      "text/plain": [
       "  rep geno st59 treatment year\n",
       "1 1   1    126  2 week    2014\n",
       "2 2   1    153  2 week    2014\n",
       "3 3   1    117  2 week    2014\n",
       "4 4   1    119  2 week    2014\n",
       "5 5   1    125  2 week    2014\n",
       "6 6   1    115  2 week    2014"
      ]
     },
     "metadata": {},
     "output_type": "display_data"
    }
   ],
   "source": [
    "#variables were stored in file name, need to be in columns: vernalization treatment, year\n",
    "#tidy data: \"Each variable must have its own column.\"\n",
    "\n",
    "#convert to tibble, add new columns for variables stored in file name\n",
    "tib2wk2014 <- as_tibble(wk2trt2014)\n",
    "tib2wk2014 <- add_column(tib2wk2014, treatment=\"2 week\", year=\"2014\")\n",
    "head(tib2wk2014)"
   ]
  },
  {
   "cell_type": "code",
   "execution_count": 24,
   "metadata": {},
   "outputs": [],
   "source": [
    "#repeat import and tidying for all other datasets\n",
    "wk4trt2014 <- read.table(\"C:/Users/Daniela/Documents/GBS-data/MD233xSS8641_Oct2018/all-markers-R/lsmeans/GHdata/2014-4week.csv\",header=TRUE,sep=\",\")\n",
    "tib4wk2014 <- as_tibble(wk4trt2014)\n",
    "tib4wk2014 <- add_column(tib4wk2014, treatment=\"4 week\", year=\"2014\")\n",
    "wk6trt2014 <- read.table(\"C:/Users/Daniela/Documents/GBS-data/MD233xSS8641_Oct2018/all-markers-R/lsmeans/GHdata/2014-6week.csv\",header=TRUE,sep=\",\")\n",
    "tib6wk2014 <- as_tibble(wk6trt2014)\n",
    "tib6wk2014 <- add_column(tib6wk2014, treatment=\"6 week\", year=\"2014\")\n",
    "wk8trt2014 <- read.table(\"C:/Users/Daniela/Documents/GBS-data/MD233xSS8641_Oct2018/all-markers-R/lsmeans/GHdata/2014-8week.csv\",header=TRUE,sep=\",\")\n",
    "tib8wk2014 <- as_tibble(wk8trt2014)\n",
    "tib8wk2014 <- add_column(tib8wk2014, treatment=\"8 week\", year=\"2014\")\n",
    "wk2trt2015 <- read.table(\"C:/Users/Daniela/Documents/GBS-data/MD233xSS8641_Oct2018/all-markers-R/lsmeans/GHdata/2015-2week.csv\",header=TRUE,sep=\",\")\n",
    "tib2wk2015 <- as_tibble(wk2trt2015)\n",
    "tib2wk2015 <- add_column(tib2wk2015, treatment=\"2 week\", year=\"2015\")\n",
    "wk4trt2015 <- read.table(\"C:/Users/Daniela/Documents/GBS-data/MD233xSS8641_Oct2018/all-markers-R/lsmeans/GHdata/2015-4week.csv\",header=TRUE,sep=\",\")\n",
    "tib4wk2015 <- as_tibble(wk4trt2015)\n",
    "tib4wk2015 <- add_column(tib4wk2015, treatment=\"4 week\", year=\"2015\")\n",
    "wk8trt2015 <- read.table(\"C:/Users/Daniela/Documents/GBS-data/MD233xSS8641_Oct2018/all-markers-R/lsmeans/GHdata/2015-8week.csv\",header=TRUE,sep=\",\")\n",
    "tib8wk2015 <- as_tibble(wk8trt2015)\n",
    "tib8wk2015 <- add_column(tib8wk2015, treatment=\"8 week\", year=\"2015\")"
   ]
  },
  {
   "cell_type": "code",
   "execution_count": 25,
   "metadata": {},
   "outputs": [
    {
     "data": {
      "text/html": [
       "<table>\n",
       "<thead><tr><th scope=col>rep</th><th scope=col>geno</th><th scope=col>st59</th><th scope=col>treatment</th><th scope=col>year</th></tr></thead>\n",
       "<tbody>\n",
       "\t<tr><td>1     </td><td>1     </td><td>39    </td><td>8 week</td><td>2014  </td></tr>\n",
       "\t<tr><td>2     </td><td>1     </td><td>39    </td><td>8 week</td><td>2014  </td></tr>\n",
       "\t<tr><td>3     </td><td>1     </td><td>34    </td><td>8 week</td><td>2014  </td></tr>\n",
       "\t<tr><td>4     </td><td>1     </td><td>38    </td><td>8 week</td><td>2014  </td></tr>\n",
       "\t<tr><td>5     </td><td>1     </td><td>39    </td><td>8 week</td><td>2014  </td></tr>\n",
       "\t<tr><td>6     </td><td>1     </td><td>42    </td><td>8 week</td><td>2014  </td></tr>\n",
       "</tbody>\n",
       "</table>\n"
      ],
      "text/latex": [
       "\\begin{tabular}{r|lllll}\n",
       " rep & geno & st59 & treatment & year\\\\\n",
       "\\hline\n",
       "\t 1      & 1      & 39     & 8 week & 2014  \\\\\n",
       "\t 2      & 1      & 39     & 8 week & 2014  \\\\\n",
       "\t 3      & 1      & 34     & 8 week & 2014  \\\\\n",
       "\t 4      & 1      & 38     & 8 week & 2014  \\\\\n",
       "\t 5      & 1      & 39     & 8 week & 2014  \\\\\n",
       "\t 6      & 1      & 42     & 8 week & 2014  \\\\\n",
       "\\end{tabular}\n"
      ],
      "text/markdown": [
       "\n",
       "| rep | geno | st59 | treatment | year |\n",
       "|---|---|---|---|---|\n",
       "| 1      | 1      | 39     | 8 week | 2014   |\n",
       "| 2      | 1      | 39     | 8 week | 2014   |\n",
       "| 3      | 1      | 34     | 8 week | 2014   |\n",
       "| 4      | 1      | 38     | 8 week | 2014   |\n",
       "| 5      | 1      | 39     | 8 week | 2014   |\n",
       "| 6      | 1      | 42     | 8 week | 2014   |\n",
       "\n"
      ],
      "text/plain": [
       "  rep geno st59 treatment year\n",
       "1 1   1    39   8 week    2014\n",
       "2 2   1    39   8 week    2014\n",
       "3 3   1    34   8 week    2014\n",
       "4 4   1    38   8 week    2014\n",
       "5 5   1    39   8 week    2014\n",
       "6 6   1    42   8 week    2014"
      ]
     },
     "metadata": {},
     "output_type": "display_data"
    }
   ],
   "source": [
    "#edit column names of tib8wk2014 to match other datasets\n",
    "colnames(tib8wk2014) <- c(\"rep\",\"geno\",\"st59\", \"treatment\",\"year\")\n",
    "head(tib8wk2014)"
   ]
  },
  {
   "cell_type": "code",
   "execution_count": 26,
   "metadata": {},
   "outputs": [
    {
     "data": {
      "text/html": [
       "<table>\n",
       "<thead><tr><th scope=col>rep</th><th scope=col>geno</th><th scope=col>st59</th><th scope=col>treatment</th><th scope=col>year</th></tr></thead>\n",
       "<tbody>\n",
       "\t<tr><td>1     </td><td>1     </td><td>126   </td><td>2 week</td><td>2014  </td></tr>\n",
       "\t<tr><td>2     </td><td>1     </td><td>153   </td><td>2 week</td><td>2014  </td></tr>\n",
       "\t<tr><td>3     </td><td>1     </td><td>117   </td><td>2 week</td><td>2014  </td></tr>\n",
       "\t<tr><td>4     </td><td>1     </td><td>119   </td><td>2 week</td><td>2014  </td></tr>\n",
       "\t<tr><td>5     </td><td>1     </td><td>125   </td><td>2 week</td><td>2014  </td></tr>\n",
       "\t<tr><td>6     </td><td>1     </td><td>115   </td><td>2 week</td><td>2014  </td></tr>\n",
       "</tbody>\n",
       "</table>\n"
      ],
      "text/latex": [
       "\\begin{tabular}{r|lllll}\n",
       " rep & geno & st59 & treatment & year\\\\\n",
       "\\hline\n",
       "\t 1      & 1      & 126    & 2 week & 2014  \\\\\n",
       "\t 2      & 1      & 153    & 2 week & 2014  \\\\\n",
       "\t 3      & 1      & 117    & 2 week & 2014  \\\\\n",
       "\t 4      & 1      & 119    & 2 week & 2014  \\\\\n",
       "\t 5      & 1      & 125    & 2 week & 2014  \\\\\n",
       "\t 6      & 1      & 115    & 2 week & 2014  \\\\\n",
       "\\end{tabular}\n"
      ],
      "text/markdown": [
       "\n",
       "| rep | geno | st59 | treatment | year |\n",
       "|---|---|---|---|---|\n",
       "| 1      | 1      | 126    | 2 week | 2014   |\n",
       "| 2      | 1      | 153    | 2 week | 2014   |\n",
       "| 3      | 1      | 117    | 2 week | 2014   |\n",
       "| 4      | 1      | 119    | 2 week | 2014   |\n",
       "| 5      | 1      | 125    | 2 week | 2014   |\n",
       "| 6      | 1      | 115    | 2 week | 2014   |\n",
       "\n"
      ],
      "text/plain": [
       "  rep geno st59 treatment year\n",
       "1 1   1    126  2 week    2014\n",
       "2 2   1    153  2 week    2014\n",
       "3 3   1    117  2 week    2014\n",
       "4 4   1    119  2 week    2014\n",
       "5 5   1    125  2 week    2014\n",
       "6 6   1    115  2 week    2014"
      ]
     },
     "metadata": {},
     "output_type": "display_data"
    },
    {
     "data": {
      "text/html": [
       "<table>\n",
       "<thead><tr><th scope=col>rep</th><th scope=col>geno</th><th scope=col>st59</th><th scope=col>treatment</th><th scope=col>year</th></tr></thead>\n",
       "<tbody>\n",
       "\t<tr><td>1     </td><td>8641  </td><td>54    </td><td>8 week</td><td>2015  </td></tr>\n",
       "\t<tr><td>2     </td><td>8641  </td><td>55    </td><td>8 week</td><td>2015  </td></tr>\n",
       "\t<tr><td>3     </td><td>8641  </td><td>54    </td><td>8 week</td><td>2015  </td></tr>\n",
       "\t<tr><td>4     </td><td>8641  </td><td>58    </td><td>8 week</td><td>2015  </td></tr>\n",
       "\t<tr><td>5     </td><td>8641  </td><td>55    </td><td>8 week</td><td>2015  </td></tr>\n",
       "\t<tr><td>6     </td><td>8641  </td><td>55    </td><td>8 week</td><td>2015  </td></tr>\n",
       "</tbody>\n",
       "</table>\n"
      ],
      "text/latex": [
       "\\begin{tabular}{r|lllll}\n",
       " rep & geno & st59 & treatment & year\\\\\n",
       "\\hline\n",
       "\t 1      & 8641   & 54     & 8 week & 2015  \\\\\n",
       "\t 2      & 8641   & 55     & 8 week & 2015  \\\\\n",
       "\t 3      & 8641   & 54     & 8 week & 2015  \\\\\n",
       "\t 4      & 8641   & 58     & 8 week & 2015  \\\\\n",
       "\t 5      & 8641   & 55     & 8 week & 2015  \\\\\n",
       "\t 6      & 8641   & 55     & 8 week & 2015  \\\\\n",
       "\\end{tabular}\n"
      ],
      "text/markdown": [
       "\n",
       "| rep | geno | st59 | treatment | year |\n",
       "|---|---|---|---|---|\n",
       "| 1      | 8641   | 54     | 8 week | 2015   |\n",
       "| 2      | 8641   | 55     | 8 week | 2015   |\n",
       "| 3      | 8641   | 54     | 8 week | 2015   |\n",
       "| 4      | 8641   | 58     | 8 week | 2015   |\n",
       "| 5      | 8641   | 55     | 8 week | 2015   |\n",
       "| 6      | 8641   | 55     | 8 week | 2015   |\n",
       "\n"
      ],
      "text/plain": [
       "  rep geno st59 treatment year\n",
       "1 1   8641 54   8 week    2015\n",
       "2 2   8641 55   8 week    2015\n",
       "3 3   8641 54   8 week    2015\n",
       "4 4   8641 58   8 week    2015\n",
       "5 5   8641 55   8 week    2015\n",
       "6 6   8641 55   8 week    2015"
      ]
     },
     "metadata": {},
     "output_type": "display_data"
    },
    {
     "data": {
      "text/html": [
       "<dl class=dl-horizontal>\n",
       "\t<dt>rep</dt>\n",
       "\t\t<dd>'integer'</dd>\n",
       "\t<dt>geno</dt>\n",
       "\t\t<dd>'integer'</dd>\n",
       "\t<dt>st59</dt>\n",
       "\t\t<dd>'character'</dd>\n",
       "\t<dt>treatment</dt>\n",
       "\t\t<dd>'character'</dd>\n",
       "\t<dt>year</dt>\n",
       "\t\t<dd>'character'</dd>\n",
       "</dl>\n"
      ],
      "text/latex": [
       "\\begin{description*}\n",
       "\\item[rep] 'integer'\n",
       "\\item[geno] 'integer'\n",
       "\\item[st59] 'character'\n",
       "\\item[treatment] 'character'\n",
       "\\item[year] 'character'\n",
       "\\end{description*}\n"
      ],
      "text/markdown": [
       "rep\n",
       ":   'integer'geno\n",
       ":   'integer'st59\n",
       ":   'character'treatment\n",
       ":   'character'year\n",
       ":   'character'\n",
       "\n"
      ],
      "text/plain": [
       "        rep        geno        st59   treatment        year \n",
       "  \"integer\"   \"integer\" \"character\" \"character\" \"character\" "
      ]
     },
     "metadata": {},
     "output_type": "display_data"
    }
   ],
   "source": [
    "#append all datasets together in one\n",
    "allgh <- rbind(tib2wk2014, tib4wk2014, tib6wk2014, tib8wk2014, tib2wk2015, tib4wk2015, tib8wk2015)\n",
    "head(allgh)\n",
    "tail(allgh)\n",
    "#check class of columns in new dataset\n",
    "sapply(allgh, class)"
   ]
  },
  {
   "cell_type": "code",
   "execution_count": 27,
   "metadata": {},
   "outputs": [
    {
     "name": "stderr",
     "output_type": "stream",
     "text": [
      "Warning message in eval(expr, envir, enclos):\n",
      "\"NAs introduced by coercion\""
     ]
    },
    {
     "data": {
      "text/html": [
       "<dl class=dl-horizontal>\n",
       "\t<dt>rep</dt>\n",
       "\t\t<dd>'integer'</dd>\n",
       "\t<dt>geno</dt>\n",
       "\t\t<dd>'integer'</dd>\n",
       "\t<dt>st59</dt>\n",
       "\t\t<dd>'numeric'</dd>\n",
       "\t<dt>treatment</dt>\n",
       "\t\t<dd>'factor'</dd>\n",
       "\t<dt>year</dt>\n",
       "\t\t<dd>'factor'</dd>\n",
       "</dl>\n"
      ],
      "text/latex": [
       "\\begin{description*}\n",
       "\\item[rep] 'integer'\n",
       "\\item[geno] 'integer'\n",
       "\\item[st59] 'numeric'\n",
       "\\item[treatment] 'factor'\n",
       "\\item[year] 'factor'\n",
       "\\end{description*}\n"
      ],
      "text/markdown": [
       "rep\n",
       ":   'integer'geno\n",
       ":   'integer'st59\n",
       ":   'numeric'treatment\n",
       ":   'factor'year\n",
       ":   'factor'\n",
       "\n"
      ],
      "text/plain": [
       "      rep      geno      st59 treatment      year \n",
       "\"integer\" \"integer\" \"numeric\"  \"factor\"  \"factor\" "
      ]
     },
     "metadata": {},
     "output_type": "display_data"
    }
   ],
   "source": [
    "#update column classes\n",
    "allgh$treatment = as.factor(allgh$treatment)\n",
    "allgh$st59 = as.numeric(allgh$st59)\n",
    "allgh$year = as.factor(allgh$year)\n",
    "sapply(allgh, class)"
   ]
  },
  {
   "cell_type": "code",
   "execution_count": 28,
   "metadata": {},
   "outputs": [
    {
     "data": {
      "text/html": [
       "<table>\n",
       "<thead><tr><th scope=col>rep</th><th scope=col>geno</th><th scope=col>st59</th><th scope=col>treatment</th><th scope=col>year</th></tr></thead>\n",
       "<tbody>\n",
       "\t<tr><td>1     </td><td>131   </td><td>62    </td><td>8 week</td><td>2015  </td></tr>\n",
       "\t<tr><td>2     </td><td>131   </td><td>59    </td><td>8 week</td><td>2015  </td></tr>\n",
       "\t<tr><td>3     </td><td>131   </td><td>64    </td><td>8 week</td><td>2015  </td></tr>\n",
       "\t<tr><td>4     </td><td>131   </td><td>68    </td><td>8 week</td><td>2015  </td></tr>\n",
       "\t<tr><td>5     </td><td>131   </td><td>62    </td><td>8 week</td><td>2015  </td></tr>\n",
       "\t<tr><td>6     </td><td>131   </td><td>62    </td><td>8 week</td><td>2015  </td></tr>\n",
       "</tbody>\n",
       "</table>\n"
      ],
      "text/latex": [
       "\\begin{tabular}{r|lllll}\n",
       " rep & geno & st59 & treatment & year\\\\\n",
       "\\hline\n",
       "\t 1      & 131    & 62     & 8 week & 2015  \\\\\n",
       "\t 2      & 131    & 59     & 8 week & 2015  \\\\\n",
       "\t 3      & 131    & 64     & 8 week & 2015  \\\\\n",
       "\t 4      & 131    & 68     & 8 week & 2015  \\\\\n",
       "\t 5      & 131    & 62     & 8 week & 2015  \\\\\n",
       "\t 6      & 131    & 62     & 8 week & 2015  \\\\\n",
       "\\end{tabular}\n"
      ],
      "text/markdown": [
       "\n",
       "| rep | geno | st59 | treatment | year |\n",
       "|---|---|---|---|---|\n",
       "| 1      | 131    | 62     | 8 week | 2015   |\n",
       "| 2      | 131    | 59     | 8 week | 2015   |\n",
       "| 3      | 131    | 64     | 8 week | 2015   |\n",
       "| 4      | 131    | 68     | 8 week | 2015   |\n",
       "| 5      | 131    | 62     | 8 week | 2015   |\n",
       "| 6      | 131    | 62     | 8 week | 2015   |\n",
       "\n"
      ],
      "text/plain": [
       "  rep geno st59 treatment year\n",
       "1 1   131  62   8 week    2015\n",
       "2 2   131  59   8 week    2015\n",
       "3 3   131  64   8 week    2015\n",
       "4 4   131  68   8 week    2015\n",
       "5 5   131  62   8 week    2015\n",
       "6 6   131  62   8 week    2015"
      ]
     },
     "metadata": {},
     "output_type": "display_data"
    },
    {
     "data": {
      "text/html": [
       "<dl class=dl-horizontal>\n",
       "\t<dt>rep</dt>\n",
       "\t\t<dd>'integer'</dd>\n",
       "\t<dt>geno</dt>\n",
       "\t\t<dd>'integer'</dd>\n",
       "\t<dt>st59</dt>\n",
       "\t\t<dd>'numeric'</dd>\n",
       "\t<dt>treatment</dt>\n",
       "\t\t<dd>'factor'</dd>\n",
       "\t<dt>year</dt>\n",
       "\t\t<dd>'factor'</dd>\n",
       "</dl>\n"
      ],
      "text/latex": [
       "\\begin{description*}\n",
       "\\item[rep] 'integer'\n",
       "\\item[geno] 'integer'\n",
       "\\item[st59] 'numeric'\n",
       "\\item[treatment] 'factor'\n",
       "\\item[year] 'factor'\n",
       "\\end{description*}\n"
      ],
      "text/markdown": [
       "rep\n",
       ":   'integer'geno\n",
       ":   'integer'st59\n",
       ":   'numeric'treatment\n",
       ":   'factor'year\n",
       ":   'factor'\n",
       "\n"
      ],
      "text/plain": [
       "      rep      geno      st59 treatment      year \n",
       "\"integer\" \"integer\" \"numeric\"  \"factor\"  \"factor\" "
      ]
     },
     "metadata": {},
     "output_type": "display_data"
    }
   ],
   "source": [
    "#create new dataset with DH lines only, no parental lines\n",
    "allghnp <- subset(allgh, !geno%in%c(\"233\", \"8641\"))\n",
    "tail(allghnp)\n",
    "sapply(allghnp, class)"
   ]
  },
  {
   "cell_type": "code",
   "execution_count": 53,
   "metadata": {},
   "outputs": [
    {
     "name": "stderr",
     "output_type": "stream",
     "text": [
      "Warning message:\n",
      "\"Removed 111 rows containing non-finite values (stat_ydensity).\""
     ]
    },
    {
     "data": {
      "image/png": "[encoded data removed]",
      "text/plain": [
       "plot without title"
      ]
     },
     "metadata": {},
     "output_type": "display_data"
    }
   ],
   "source": [
    "#create baseplot and basic violin plot, facet by year\n",
    "bp <- ggplot(allghnp, aes(x=treatment, y=st59, fill=treatment))\n",
    "vp <- bp +geom_violin(trim=FALSE) + facet_grid(allghnp$year)\n",
    "vp"
   ]
  },
  {
   "cell_type": "code",
   "execution_count": 54,
   "metadata": {},
   "outputs": [
    {
     "name": "stderr",
     "output_type": "stream",
     "text": [
      "Warning message:\n",
      "\"Removed 111 rows containing non-finite values (stat_ydensity).\""
     ]
    },
    {
     "data": {
      "image/png": "[encoded data removed]",
      "text/plain": [
       "plot without title"
      ]
     },
     "metadata": {},
     "output_type": "display_data"
    }
   ],
   "source": [
    "#adjust colors and theme, remove legend\n",
    "svp <- vp + scale_fill_brewer() + theme_bw() + guides(fill=FALSE)\n",
    "svp"
   ]
  },
  {
   "cell_type": "code",
   "execution_count": 31,
   "metadata": {},
   "outputs": [
    {
     "name": "stderr",
     "output_type": "stream",
     "text": [
      "Warning message:\n",
      "\"Removed 111 rows containing non-finite values (stat_ydensity).\"Warning message:\n",
      "\"Removed 111 rows containing non-finite values (stat_boxplot).\"Warning message:\n",
      "\"Removed 111 rows containing non-finite values (stat_summary).\""
     ]
    },
    {
     "data": {
      "image/png": "[encoded data removed]",
      "text/plain": [
       "plot without title"
      ]
     },
     "metadata": {},
     "output_type": "display_data"
    }
   ],
   "source": [
    "#add boxplot overlay to violin plot\n",
    "bsvp <- svp + geom_boxplot(width=.05, fill=\"black\", outlier.colour=NA) + stat_summary(fun.y=median, geom=\"point\", fill=\"white\", shape=21, size=2.0)\n",
    "bsvp"
   ]
  },
  {
   "cell_type": "code",
   "execution_count": 55,
   "metadata": {},
   "outputs": [
    {
     "name": "stderr",
     "output_type": "stream",
     "text": [
      "Warning message:\n",
      "\"Removed 111 rows containing non-finite values (stat_ydensity).\"Warning message:\n",
      "\"Removed 111 rows containing non-finite values (stat_boxplot).\"Warning message:\n",
      "\"Removed 111 rows containing non-finite values (stat_summary).\""
     ]
    },
    {
     "data": {
      "image/png": "[encoded data removed]",
      "text/plain": [
       "plot without title"
      ]
     },
     "metadata": {},
     "output_type": "display_data"
    }
   ],
   "source": [
    "#create final plot: add axis names and adjust label sizes\n",
    "lbsvp <- bsvp + theme_bw()+ xlab(\"Vernalization Treatment\") + ylab(\"Heading Date \\n(days after transplanting)\") + theme(strip.text = element_text(face=\"bold\", size=rel(1.25))) + theme(axis.text = element_text(size=rel(1.1))) + theme(axis.title.x=element_text(size=15)) + theme(axis.title.y=element_text(size=15))\n",
    "lbsvp"
   ]
  },
  {
   "cell_type": "code",
   "execution_count": 56,
   "metadata": {},
   "outputs": [
    {
     "name": "stderr",
     "output_type": "stream",
     "text": [
      "Saving 6.67 x 6.67 in image\n",
      "Warning message:\n",
      "\"Removed 111 rows containing non-finite values (stat_ydensity).\"Warning message:\n",
      "\"Removed 111 rows containing non-finite values (stat_boxplot).\"Warning message:\n",
      "\"Removed 111 rows containing non-finite values (stat_summary).\""
     ]
    }
   ],
   "source": [
    "#save violin plot\n",
    "ggsave(\"HD-GH-alltrt-violinplot.png\")"
   ]
  },
  {
   "cell_type": "code",
   "execution_count": 57,
   "metadata": {},
   "outputs": [],
   "source": [
    "#Goal 2: create boxplot of heading date for field data"
   ]
  },
  {
   "cell_type": "code",
   "execution_count": 58,
   "metadata": {},
   "outputs": [
    {
     "data": {
      "text/html": [
       "<table>\n",
       "<thead><tr><th scope=col>env</th><th scope=col>rep</th><th scope=col>geno</th><th scope=col>HD</th></tr></thead>\n",
       "<tbody>\n",
       "\t<tr><td>1  </td><td>1  </td><td>1  </td><td>123</td></tr>\n",
       "\t<tr><td>1  </td><td>1  </td><td>3  </td><td>128</td></tr>\n",
       "\t<tr><td>1  </td><td>1  </td><td>4  </td><td>125</td></tr>\n",
       "\t<tr><td>1  </td><td>1  </td><td>5  </td><td>128</td></tr>\n",
       "\t<tr><td>1  </td><td>1  </td><td>6  </td><td>122</td></tr>\n",
       "\t<tr><td>1  </td><td>1  </td><td>7  </td><td>129</td></tr>\n",
       "</tbody>\n",
       "</table>\n"
      ],
      "text/latex": [
       "\\begin{tabular}{r|llll}\n",
       " env & rep & geno & HD\\\\\n",
       "\\hline\n",
       "\t 1   & 1   & 1   & 123\\\\\n",
       "\t 1   & 1   & 3   & 128\\\\\n",
       "\t 1   & 1   & 4   & 125\\\\\n",
       "\t 1   & 1   & 5   & 128\\\\\n",
       "\t 1   & 1   & 6   & 122\\\\\n",
       "\t 1   & 1   & 7   & 129\\\\\n",
       "\\end{tabular}\n"
      ],
      "text/markdown": [
       "\n",
       "| env | rep | geno | HD |\n",
       "|---|---|---|---|\n",
       "| 1   | 1   | 1   | 123 |\n",
       "| 1   | 1   | 3   | 128 |\n",
       "| 1   | 1   | 4   | 125 |\n",
       "| 1   | 1   | 5   | 128 |\n",
       "| 1   | 1   | 6   | 122 |\n",
       "| 1   | 1   | 7   | 129 |\n",
       "\n"
      ],
      "text/plain": [
       "  env rep geno HD \n",
       "1 1   1   1    123\n",
       "2 1   1   3    128\n",
       "3 1   1   4    125\n",
       "4 1   1   5    128\n",
       "5 1   1   6    122\n",
       "6 1   1   7    129"
      ]
     },
     "metadata": {},
     "output_type": "display_data"
    },
    {
     "data": {
      "text/html": [
       "<table>\n",
       "<thead><tr><th scope=col>env</th><th scope=col>rep</th><th scope=col>geno</th><th scope=col>HD</th></tr></thead>\n",
       "<tbody>\n",
       "\t<tr><td>8  </td><td>2  </td><td>125</td><td>115</td></tr>\n",
       "\t<tr><td>8  </td><td>2  </td><td>126</td><td>118</td></tr>\n",
       "\t<tr><td>8  </td><td>2  </td><td>128</td><td>119</td></tr>\n",
       "\t<tr><td>8  </td><td>2  </td><td>129</td><td>115</td></tr>\n",
       "\t<tr><td>8  </td><td>2  </td><td>130</td><td>116</td></tr>\n",
       "\t<tr><td>8  </td><td>2  </td><td>131</td><td>121</td></tr>\n",
       "</tbody>\n",
       "</table>\n"
      ],
      "text/latex": [
       "\\begin{tabular}{r|llll}\n",
       " env & rep & geno & HD\\\\\n",
       "\\hline\n",
       "\t 8   & 2   & 125 & 115\\\\\n",
       "\t 8   & 2   & 126 & 118\\\\\n",
       "\t 8   & 2   & 128 & 119\\\\\n",
       "\t 8   & 2   & 129 & 115\\\\\n",
       "\t 8   & 2   & 130 & 116\\\\\n",
       "\t 8   & 2   & 131 & 121\\\\\n",
       "\\end{tabular}\n"
      ],
      "text/markdown": [
       "\n",
       "| env | rep | geno | HD |\n",
       "|---|---|---|---|\n",
       "| 8   | 2   | 125 | 115 |\n",
       "| 8   | 2   | 126 | 118 |\n",
       "| 8   | 2   | 128 | 119 |\n",
       "| 8   | 2   | 129 | 115 |\n",
       "| 8   | 2   | 130 | 116 |\n",
       "| 8   | 2   | 131 | 121 |\n",
       "\n"
      ],
      "text/plain": [
       "  env rep geno HD \n",
       "1 8   2   125  115\n",
       "2 8   2   126  118\n",
       "3 8   2   128  119\n",
       "4 8   2   129  115\n",
       "5 8   2   130  116\n",
       "6 8   2   131  121"
      ]
     },
     "metadata": {},
     "output_type": "display_data"
    },
    {
     "data": {
      "text/html": [
       "<ol class=list-inline>\n",
       "\t<li>'tbl_df'</li>\n",
       "\t<li>'tbl'</li>\n",
       "\t<li>'data.frame'</li>\n",
       "</ol>\n"
      ],
      "text/latex": [
       "\\begin{enumerate*}\n",
       "\\item 'tbl\\_df'\n",
       "\\item 'tbl'\n",
       "\\item 'data.frame'\n",
       "\\end{enumerate*}\n"
      ],
      "text/markdown": [
       "1. 'tbl_df'\n",
       "2. 'tbl'\n",
       "3. 'data.frame'\n",
       "\n",
       "\n"
      ],
      "text/plain": [
       "[1] \"tbl_df\"     \"tbl\"        \"data.frame\""
      ]
     },
     "metadata": {},
     "output_type": "display_data"
    }
   ],
   "source": [
    "#import field dataset (all variables in one table already)\n",
    "hdfield <- read.table(\"C:/Users/Daniela/Documents/GBS-data/MD233xSS8641_Oct2018/all-markers-R/QTL-maps/MS-DH-field-HD-comp.csv\",header=TRUE,sep=\",\",na.strings=\".\")\n",
    "hdfield <- as_tibble(hdfield)\n",
    "head(hdfield)\n",
    "tail(hdfield)\n",
    "class(hdfield)"
   ]
  },
  {
   "cell_type": "code",
   "execution_count": 59,
   "metadata": {},
   "outputs": [
    {
     "data": {
      "text/html": [
       "<table>\n",
       "<thead><tr><th scope=col>env</th><th scope=col>rep</th><th scope=col>geno</th><th scope=col>HD</th></tr></thead>\n",
       "<tbody>\n",
       "\t<tr><td>2011 Salisbury</td><td>1             </td><td>1             </td><td>123           </td></tr>\n",
       "\t<tr><td>2011 Salisbury</td><td>1             </td><td>3             </td><td>128           </td></tr>\n",
       "\t<tr><td>2011 Salisbury</td><td>1             </td><td>4             </td><td>125           </td></tr>\n",
       "\t<tr><td>2011 Salisbury</td><td>1             </td><td>5             </td><td>128           </td></tr>\n",
       "\t<tr><td>2011 Salisbury</td><td>1             </td><td>6             </td><td>122           </td></tr>\n",
       "\t<tr><td>2011 Salisbury</td><td>1             </td><td>7             </td><td>129           </td></tr>\n",
       "</tbody>\n",
       "</table>\n"
      ],
      "text/latex": [
       "\\begin{tabular}{r|llll}\n",
       " env & rep & geno & HD\\\\\n",
       "\\hline\n",
       "\t 2011 Salisbury & 1              & 1              & 123           \\\\\n",
       "\t 2011 Salisbury & 1              & 3              & 128           \\\\\n",
       "\t 2011 Salisbury & 1              & 4              & 125           \\\\\n",
       "\t 2011 Salisbury & 1              & 5              & 128           \\\\\n",
       "\t 2011 Salisbury & 1              & 6              & 122           \\\\\n",
       "\t 2011 Salisbury & 1              & 7              & 129           \\\\\n",
       "\\end{tabular}\n"
      ],
      "text/markdown": [
       "\n",
       "| env | rep | geno | HD |\n",
       "|---|---|---|---|\n",
       "| 2011 Salisbury | 1              | 1              | 123            |\n",
       "| 2011 Salisbury | 1              | 3              | 128            |\n",
       "| 2011 Salisbury | 1              | 4              | 125            |\n",
       "| 2011 Salisbury | 1              | 5              | 128            |\n",
       "| 2011 Salisbury | 1              | 6              | 122            |\n",
       "| 2011 Salisbury | 1              | 7              | 129            |\n",
       "\n"
      ],
      "text/plain": [
       "  env            rep geno HD \n",
       "1 2011 Salisbury 1   1    123\n",
       "2 2011 Salisbury 1   3    128\n",
       "3 2011 Salisbury 1   4    125\n",
       "4 2011 Salisbury 1   5    128\n",
       "5 2011 Salisbury 1   6    122\n",
       "6 2011 Salisbury 1   7    129"
      ]
     },
     "metadata": {},
     "output_type": "display_data"
    },
    {
     "data": {
      "text/html": [
       "<table>\n",
       "<thead><tr><th scope=col>env</th><th scope=col>rep</th><th scope=col>geno</th><th scope=col>HD</th></tr></thead>\n",
       "<tbody>\n",
       "\t<tr><td>2014 Kinston</td><td>2           </td><td>125         </td><td>115         </td></tr>\n",
       "\t<tr><td>2014 Kinston</td><td>2           </td><td>126         </td><td>118         </td></tr>\n",
       "\t<tr><td>2014 Kinston</td><td>2           </td><td>128         </td><td>119         </td></tr>\n",
       "\t<tr><td>2014 Kinston</td><td>2           </td><td>129         </td><td>115         </td></tr>\n",
       "\t<tr><td>2014 Kinston</td><td>2           </td><td>130         </td><td>116         </td></tr>\n",
       "\t<tr><td>2014 Kinston</td><td>2           </td><td>131         </td><td>121         </td></tr>\n",
       "</tbody>\n",
       "</table>\n"
      ],
      "text/latex": [
       "\\begin{tabular}{r|llll}\n",
       " env & rep & geno & HD\\\\\n",
       "\\hline\n",
       "\t 2014 Kinston & 2            & 125          & 115         \\\\\n",
       "\t 2014 Kinston & 2            & 126          & 118         \\\\\n",
       "\t 2014 Kinston & 2            & 128          & 119         \\\\\n",
       "\t 2014 Kinston & 2            & 129          & 115         \\\\\n",
       "\t 2014 Kinston & 2            & 130          & 116         \\\\\n",
       "\t 2014 Kinston & 2            & 131          & 121         \\\\\n",
       "\\end{tabular}\n"
      ],
      "text/markdown": [
       "\n",
       "| env | rep | geno | HD |\n",
       "|---|---|---|---|\n",
       "| 2014 Kinston | 2            | 125          | 115          |\n",
       "| 2014 Kinston | 2            | 126          | 118          |\n",
       "| 2014 Kinston | 2            | 128          | 119          |\n",
       "| 2014 Kinston | 2            | 129          | 115          |\n",
       "| 2014 Kinston | 2            | 130          | 116          |\n",
       "| 2014 Kinston | 2            | 131          | 121          |\n",
       "\n"
      ],
      "text/plain": [
       "  env          rep geno HD \n",
       "1 2014 Kinston 2   125  115\n",
       "2 2014 Kinston 2   126  118\n",
       "3 2014 Kinston 2   128  119\n",
       "4 2014 Kinston 2   129  115\n",
       "5 2014 Kinston 2   130  116\n",
       "6 2014 Kinston 2   131  121"
      ]
     },
     "metadata": {},
     "output_type": "display_data"
    }
   ],
   "source": [
    "#environments listed as numbers, want location & year\n",
    "#edit env values as.character\n",
    "hdfield$env <- as.character(hdfield$env)\n",
    "hdfield$env[hdfield$env == \"1\"] <- \"2011 Salisbury\"\n",
    "hdfield$env[hdfield$env == \"2\"] <- \"2012 Salisbury\"\n",
    "hdfield$env[hdfield$env == \"3\"] <- \"2012 Nuevo de Julio\"\n",
    "hdfield$env[hdfield$env == \"4\"] <- \"2013 Clarksville\"\n",
    "hdfield$env[hdfield$env == \"5\"] <- \"2014 Clarksville\"\n",
    "hdfield$env[hdfield$env == \"6\"] <- \"2013 Queenstown\"\n",
    "hdfield$env[hdfield$env == \"7\"] <- \"2014 Queenstown\"\n",
    "hdfield$env[hdfield$env == \"8\"] <- \"2014 Kinston\"\n",
    "head(hdfield)\n",
    "tail(hdfield)"
   ]
  },
  {
   "cell_type": "code",
   "execution_count": 60,
   "metadata": {},
   "outputs": [
    {
     "data": {
      "text/html": [
       "<dl class=dl-horizontal>\n",
       "\t<dt>env</dt>\n",
       "\t\t<dd>'character'</dd>\n",
       "\t<dt>rep</dt>\n",
       "\t\t<dd>'integer'</dd>\n",
       "\t<dt>geno</dt>\n",
       "\t\t<dd>'integer'</dd>\n",
       "\t<dt>HD</dt>\n",
       "\t\t<dd>'integer'</dd>\n",
       "</dl>\n"
      ],
      "text/latex": [
       "\\begin{description*}\n",
       "\\item[env] 'character'\n",
       "\\item[rep] 'integer'\n",
       "\\item[geno] 'integer'\n",
       "\\item[HD] 'integer'\n",
       "\\end{description*}\n"
      ],
      "text/markdown": [
       "env\n",
       ":   'character'rep\n",
       ":   'integer'geno\n",
       ":   'integer'HD\n",
       ":   'integer'\n",
       "\n"
      ],
      "text/plain": [
       "        env         rep        geno          HD \n",
       "\"character\"   \"integer\"   \"integer\"   \"integer\" "
      ]
     },
     "metadata": {},
     "output_type": "display_data"
    }
   ],
   "source": [
    "#check column classes\n",
    "sapply(hdfield, class)"
   ]
  },
  {
   "cell_type": "code",
   "execution_count": 61,
   "metadata": {},
   "outputs": [
    {
     "data": {
      "text/html": [
       "<dl class=dl-horizontal>\n",
       "\t<dt>env</dt>\n",
       "\t\t<dd>'factor'</dd>\n",
       "\t<dt>rep</dt>\n",
       "\t\t<dd>'integer'</dd>\n",
       "\t<dt>geno</dt>\n",
       "\t\t<dd>'integer'</dd>\n",
       "\t<dt>HD</dt>\n",
       "\t\t<dd>'numeric'</dd>\n",
       "</dl>\n"
      ],
      "text/latex": [
       "\\begin{description*}\n",
       "\\item[env] 'factor'\n",
       "\\item[rep] 'integer'\n",
       "\\item[geno] 'integer'\n",
       "\\item[HD] 'numeric'\n",
       "\\end{description*}\n"
      ],
      "text/markdown": [
       "env\n",
       ":   'factor'rep\n",
       ":   'integer'geno\n",
       ":   'integer'HD\n",
       ":   'numeric'\n",
       "\n"
      ],
      "text/plain": [
       "      env       rep      geno        HD \n",
       " \"factor\" \"integer\" \"integer\" \"numeric\" "
      ]
     },
     "metadata": {},
     "output_type": "display_data"
    },
    {
     "data": {
      "text/html": [
       "<ol class=list-inline>\n",
       "\t<li>'tbl_df'</li>\n",
       "\t<li>'tbl'</li>\n",
       "\t<li>'data.frame'</li>\n",
       "</ol>\n"
      ],
      "text/latex": [
       "\\begin{enumerate*}\n",
       "\\item 'tbl\\_df'\n",
       "\\item 'tbl'\n",
       "\\item 'data.frame'\n",
       "\\end{enumerate*}\n"
      ],
      "text/markdown": [
       "1. 'tbl_df'\n",
       "2. 'tbl'\n",
       "3. 'data.frame'\n",
       "\n",
       "\n"
      ],
      "text/plain": [
       "[1] \"tbl_df\"     \"tbl\"        \"data.frame\""
      ]
     },
     "metadata": {},
     "output_type": "display_data"
    }
   ],
   "source": [
    "#set column classes\n",
    "hdfield$env = as.factor(hdfield$env)\n",
    "hdfield$HD = as.numeric(hdfield$HD)\n",
    "sapply(hdfield, class)\n",
    "class(hdfield)"
   ]
  },
  {
   "cell_type": "code",
   "execution_count": 62,
   "metadata": {},
   "outputs": [
    {
     "name": "stderr",
     "output_type": "stream",
     "text": [
      "Warning message:\n",
      "\"Removed 18 rows containing non-finite values (stat_boxplot).\""
     ]
    },
    {
     "data": {
      "image/png": "[encoded data removed]",
      "text/plain": [
       "plot without title"
      ]
     },
     "metadata": {},
     "output_type": "display_data"
    }
   ],
   "source": [
    "#create baseplot and boxplot\n",
    "bpf <- ggplot(hdfield, aes(x=env, y=HD))\n",
    "bxpf <- bpf + geom_boxplot(outlier.size=1.5, outlier.shape=21)\n",
    "bxpf"
   ]
  },
  {
   "cell_type": "code",
   "execution_count": 63,
   "metadata": {},
   "outputs": [
    {
     "name": "stderr",
     "output_type": "stream",
     "text": [
      "Warning message:\n",
      "\"Removed 35 rows containing non-finite values (stat_boxplot).\""
     ]
    },
    {
     "data": {
      "image/png": "[encoded data removed]",
      "text/plain": [
       "plot without title"
      ]
     },
     "metadata": {},
     "output_type": "display_data"
    }
   ],
   "source": [
    "#create final plot: add axis labels, edit theme elements\n",
    "lbxpf <- bxpf + xlab(\"Field Environment\") +ylab(\"Heading Date (Julian Days)\") + theme(axis.text.x = element_text(angle=30, hjust=1, size=rel(1.1))) + ylim(110, 160) + theme(axis.text = element_text(size=rel(1.1))) +theme(axis.title.x=element_text(size=20)) + theme(axis.title.y=element_text(size=20))\n",
    "lbxpf"
   ]
  },
  {
   "cell_type": "code",
   "execution_count": 64,
   "metadata": {},
   "outputs": [
    {
     "name": "stderr",
     "output_type": "stream",
     "text": [
      "Saving 6.67 x 6.67 in image\n",
      "Warning message:\n",
      "\"Removed 35 rows containing non-finite values (stat_boxplot).\""
     ]
    }
   ],
   "source": [
    "#save boxplot\n",
    "ggsave(\"HD-all-field-boxplot.png\")"
   ]
  }
 ],
 "metadata": {
  "kernelspec": {
   "display_name": "R",
   "language": "R",
   "name": "ir"
  },
  "language_info": {
   "codemirror_mode": "r",
   "file_extension": ".r",
   "mimetype": "text/x-r-source",
   "name": "R",
   "pygments_lexer": "r",
   "version": "3.6.1"
  }
 },
 "nbformat": 4,
 "nbformat_minor": 2
}
